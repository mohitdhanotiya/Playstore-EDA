{
 "cells": [
  {
   "cell_type": "markdown",
   "id": "2d3fcee9",
   "metadata": {},
   "source": [
    "# Playstore Analysis"
   ]
  },
  {
   "cell_type": "code",
   "execution_count": 1,
   "id": "7bd7345e",
   "metadata": {},
   "outputs": [],
   "source": [
    "import numpy as np\n",
    "import pandas as pd\n",
    "import matplotlib.pyplot as plt\n",
    "import seaborn as sns\n",
    "sns.set()\n",
    "sns.set(style=\"darkgrid\")"
   ]
  },
  {
   "cell_type": "code",
   "execution_count": 51,
   "id": "4c0c7a2d",
   "metadata": {},
   "outputs": [
    {
     "data": {
      "text/html": [
       "<div>\n",
       "<style scoped>\n",
       "    .dataframe tbody tr th:only-of-type {\n",
       "        vertical-align: middle;\n",
       "    }\n",
       "\n",
       "    .dataframe tbody tr th {\n",
       "        vertical-align: top;\n",
       "    }\n",
       "\n",
       "    .dataframe thead th {\n",
       "        text-align: right;\n",
       "    }\n",
       "</style>\n",
       "<table border=\"1\" class=\"dataframe\">\n",
       "  <thead>\n",
       "    <tr style=\"text-align: right;\">\n",
       "      <th></th>\n",
       "      <th>App</th>\n",
       "      <th>Category</th>\n",
       "      <th>Rating</th>\n",
       "      <th>Reviews</th>\n",
       "      <th>Size</th>\n",
       "      <th>Installs</th>\n",
       "      <th>Type</th>\n",
       "      <th>Price</th>\n",
       "      <th>Content Rating</th>\n",
       "      <th>Genres</th>\n",
       "      <th>Last Updated</th>\n",
       "      <th>Current Ver</th>\n",
       "      <th>Android Ver</th>\n",
       "    </tr>\n",
       "  </thead>\n",
       "  <tbody>\n",
       "    <tr>\n",
       "      <th>0</th>\n",
       "      <td>Photo Editor &amp; Candy Camera &amp; Grid &amp; ScrapBook</td>\n",
       "      <td>ART_AND_DESIGN</td>\n",
       "      <td>4.1</td>\n",
       "      <td>159</td>\n",
       "      <td>19000.000000</td>\n",
       "      <td>10,000+</td>\n",
       "      <td>Free</td>\n",
       "      <td>0</td>\n",
       "      <td>Everyone</td>\n",
       "      <td>Art &amp; Design</td>\n",
       "      <td>January 7, 2018</td>\n",
       "      <td>1.0.0</td>\n",
       "      <td>4.0.3 and up</td>\n",
       "    </tr>\n",
       "    <tr>\n",
       "      <th>1</th>\n",
       "      <td>Coloring book moana</td>\n",
       "      <td>ART_AND_DESIGN</td>\n",
       "      <td>3.9</td>\n",
       "      <td>967</td>\n",
       "      <td>14000.000000</td>\n",
       "      <td>500,000+</td>\n",
       "      <td>Free</td>\n",
       "      <td>0</td>\n",
       "      <td>Everyone</td>\n",
       "      <td>Art &amp; Design;Pretend Play</td>\n",
       "      <td>January 15, 2018</td>\n",
       "      <td>2.0.0</td>\n",
       "      <td>4.0.3 and up</td>\n",
       "    </tr>\n",
       "    <tr>\n",
       "      <th>2</th>\n",
       "      <td>U Launcher Lite – FREE Live Cool Themes, Hide ...</td>\n",
       "      <td>ART_AND_DESIGN</td>\n",
       "      <td>4.7</td>\n",
       "      <td>87510</td>\n",
       "      <td>8700.000000</td>\n",
       "      <td>5,000,000+</td>\n",
       "      <td>Free</td>\n",
       "      <td>0</td>\n",
       "      <td>Everyone</td>\n",
       "      <td>Art &amp; Design</td>\n",
       "      <td>August 1, 2018</td>\n",
       "      <td>1.2.4</td>\n",
       "      <td>4.0.3 and up</td>\n",
       "    </tr>\n",
       "    <tr>\n",
       "      <th>3</th>\n",
       "      <td>Sketch - Draw &amp; Paint</td>\n",
       "      <td>ART_AND_DESIGN</td>\n",
       "      <td>4.5</td>\n",
       "      <td>215644</td>\n",
       "      <td>25000.000000</td>\n",
       "      <td>50,000,000+</td>\n",
       "      <td>Free</td>\n",
       "      <td>0</td>\n",
       "      <td>Teen</td>\n",
       "      <td>Art &amp; Design</td>\n",
       "      <td>June 8, 2018</td>\n",
       "      <td>Varies with device</td>\n",
       "      <td>4.2 and up</td>\n",
       "    </tr>\n",
       "    <tr>\n",
       "      <th>4</th>\n",
       "      <td>Pixel Draw - Number Art Coloring Book</td>\n",
       "      <td>ART_AND_DESIGN</td>\n",
       "      <td>4.3</td>\n",
       "      <td>967</td>\n",
       "      <td>2800.000000</td>\n",
       "      <td>100,000+</td>\n",
       "      <td>Free</td>\n",
       "      <td>0</td>\n",
       "      <td>Everyone</td>\n",
       "      <td>Art &amp; Design;Creativity</td>\n",
       "      <td>June 20, 2018</td>\n",
       "      <td>1.1</td>\n",
       "      <td>4.4 and up</td>\n",
       "    </tr>\n",
       "    <tr>\n",
       "      <th>...</th>\n",
       "      <td>...</td>\n",
       "      <td>...</td>\n",
       "      <td>...</td>\n",
       "      <td>...</td>\n",
       "      <td>...</td>\n",
       "      <td>...</td>\n",
       "      <td>...</td>\n",
       "      <td>...</td>\n",
       "      <td>...</td>\n",
       "      <td>...</td>\n",
       "      <td>...</td>\n",
       "      <td>...</td>\n",
       "      <td>...</td>\n",
       "    </tr>\n",
       "    <tr>\n",
       "      <th>10836</th>\n",
       "      <td>Sya9a Maroc - FR</td>\n",
       "      <td>FAMILY</td>\n",
       "      <td>4.5</td>\n",
       "      <td>38</td>\n",
       "      <td>53000.000000</td>\n",
       "      <td>5,000+</td>\n",
       "      <td>Free</td>\n",
       "      <td>0</td>\n",
       "      <td>Everyone</td>\n",
       "      <td>Education</td>\n",
       "      <td>July 25, 2017</td>\n",
       "      <td>1.48</td>\n",
       "      <td>4.1 and up</td>\n",
       "    </tr>\n",
       "    <tr>\n",
       "      <th>10837</th>\n",
       "      <td>Fr. Mike Schmitz Audio Teachings</td>\n",
       "      <td>FAMILY</td>\n",
       "      <td>5.0</td>\n",
       "      <td>4</td>\n",
       "      <td>3600.000000</td>\n",
       "      <td>100+</td>\n",
       "      <td>Free</td>\n",
       "      <td>0</td>\n",
       "      <td>Everyone</td>\n",
       "      <td>Education</td>\n",
       "      <td>July 6, 2018</td>\n",
       "      <td>1.0</td>\n",
       "      <td>4.1 and up</td>\n",
       "    </tr>\n",
       "    <tr>\n",
       "      <th>10838</th>\n",
       "      <td>Parkinson Exercices FR</td>\n",
       "      <td>MEDICAL</td>\n",
       "      <td>NaN</td>\n",
       "      <td>3</td>\n",
       "      <td>9500.000000</td>\n",
       "      <td>1,000+</td>\n",
       "      <td>Free</td>\n",
       "      <td>0</td>\n",
       "      <td>Everyone</td>\n",
       "      <td>Medical</td>\n",
       "      <td>January 20, 2017</td>\n",
       "      <td>1.0</td>\n",
       "      <td>2.2 and up</td>\n",
       "    </tr>\n",
       "    <tr>\n",
       "      <th>10839</th>\n",
       "      <td>The SCP Foundation DB fr nn5n</td>\n",
       "      <td>BOOKS_AND_REFERENCE</td>\n",
       "      <td>4.5</td>\n",
       "      <td>114</td>\n",
       "      <td>21516.529524</td>\n",
       "      <td>1,000+</td>\n",
       "      <td>Free</td>\n",
       "      <td>0</td>\n",
       "      <td>Mature 17+</td>\n",
       "      <td>Books &amp; Reference</td>\n",
       "      <td>January 19, 2015</td>\n",
       "      <td>Varies with device</td>\n",
       "      <td>Varies with device</td>\n",
       "    </tr>\n",
       "    <tr>\n",
       "      <th>10840</th>\n",
       "      <td>iHoroscope - 2018 Daily Horoscope &amp; Astrology</td>\n",
       "      <td>LIFESTYLE</td>\n",
       "      <td>4.5</td>\n",
       "      <td>398307</td>\n",
       "      <td>19000.000000</td>\n",
       "      <td>10,000,000+</td>\n",
       "      <td>Free</td>\n",
       "      <td>0</td>\n",
       "      <td>Everyone</td>\n",
       "      <td>Lifestyle</td>\n",
       "      <td>July 25, 2018</td>\n",
       "      <td>Varies with device</td>\n",
       "      <td>Varies with device</td>\n",
       "    </tr>\n",
       "  </tbody>\n",
       "</table>\n",
       "<p>10841 rows × 13 columns</p>\n",
       "</div>"
      ],
      "text/plain": [
       "                                                     App             Category  \\\n",
       "0         Photo Editor & Candy Camera & Grid & ScrapBook       ART_AND_DESIGN   \n",
       "1                                    Coloring book moana       ART_AND_DESIGN   \n",
       "2      U Launcher Lite – FREE Live Cool Themes, Hide ...       ART_AND_DESIGN   \n",
       "3                                  Sketch - Draw & Paint       ART_AND_DESIGN   \n",
       "4                  Pixel Draw - Number Art Coloring Book       ART_AND_DESIGN   \n",
       "...                                                  ...                  ...   \n",
       "10836                                   Sya9a Maroc - FR               FAMILY   \n",
       "10837                   Fr. Mike Schmitz Audio Teachings               FAMILY   \n",
       "10838                             Parkinson Exercices FR              MEDICAL   \n",
       "10839                      The SCP Foundation DB fr nn5n  BOOKS_AND_REFERENCE   \n",
       "10840      iHoroscope - 2018 Daily Horoscope & Astrology            LIFESTYLE   \n",
       "\n",
       "       Rating Reviews          Size     Installs  Type Price Content Rating  \\\n",
       "0         4.1     159  19000.000000      10,000+  Free     0       Everyone   \n",
       "1         3.9     967  14000.000000     500,000+  Free     0       Everyone   \n",
       "2         4.7   87510   8700.000000   5,000,000+  Free     0       Everyone   \n",
       "3         4.5  215644  25000.000000  50,000,000+  Free     0           Teen   \n",
       "4         4.3     967   2800.000000     100,000+  Free     0       Everyone   \n",
       "...       ...     ...           ...          ...   ...   ...            ...   \n",
       "10836     4.5      38  53000.000000       5,000+  Free     0       Everyone   \n",
       "10837     5.0       4   3600.000000         100+  Free     0       Everyone   \n",
       "10838     NaN       3   9500.000000       1,000+  Free     0       Everyone   \n",
       "10839     4.5     114  21516.529524       1,000+  Free     0     Mature 17+   \n",
       "10840     4.5  398307  19000.000000  10,000,000+  Free     0       Everyone   \n",
       "\n",
       "                          Genres      Last Updated         Current Ver  \\\n",
       "0                   Art & Design   January 7, 2018               1.0.0   \n",
       "1      Art & Design;Pretend Play  January 15, 2018               2.0.0   \n",
       "2                   Art & Design    August 1, 2018               1.2.4   \n",
       "3                   Art & Design      June 8, 2018  Varies with device   \n",
       "4        Art & Design;Creativity     June 20, 2018                 1.1   \n",
       "...                          ...               ...                 ...   \n",
       "10836                  Education     July 25, 2017                1.48   \n",
       "10837                  Education      July 6, 2018                 1.0   \n",
       "10838                    Medical  January 20, 2017                 1.0   \n",
       "10839          Books & Reference  January 19, 2015  Varies with device   \n",
       "10840                  Lifestyle     July 25, 2018  Varies with device   \n",
       "\n",
       "              Android Ver  \n",
       "0            4.0.3 and up  \n",
       "1            4.0.3 and up  \n",
       "2            4.0.3 and up  \n",
       "3              4.2 and up  \n",
       "4              4.4 and up  \n",
       "...                   ...  \n",
       "10836          4.1 and up  \n",
       "10837          4.1 and up  \n",
       "10838          2.2 and up  \n",
       "10839  Varies with device  \n",
       "10840  Varies with device  \n",
       "\n",
       "[10841 rows x 13 columns]"
      ]
     },
     "execution_count": 51,
     "metadata": {},
     "output_type": "execute_result"
    }
   ],
   "source": [
    "Playstore_data = pd.read_csv(\"playstore-analysis (2) (1).csv\")\n",
    "Playstore_data"
   ]
  },
  {
   "cell_type": "markdown",
   "id": "bc17ddff",
   "metadata": {},
   "source": [
    "# Tasks"
   ]
  },
  {
   "cell_type": "markdown",
   "id": "a03e6933",
   "metadata": {},
   "source": [
    "## 1. Data clean up – Missing value treatment"
   ]
  },
  {
   "cell_type": "markdown",
   "id": "a655ccbd",
   "metadata": {},
   "source": [
    "### a. Drop records where rating is missing since rating is our target/study variable"
   ]
  },
  {
   "cell_type": "code",
   "execution_count": 52,
   "id": "212565f1",
   "metadata": {},
   "outputs": [
    {
     "data": {
      "text/plain": [
       "Rating            1474\n",
       "Current Ver          8\n",
       "Android Ver          3\n",
       "Type                 1\n",
       "Content Rating       1\n",
       "App                  0\n",
       "Category             0\n",
       "Reviews              0\n",
       "Size                 0\n",
       "Installs             0\n",
       "Price                0\n",
       "Genres               0\n",
       "Last Updated         0\n",
       "dtype: int64"
      ]
     },
     "execution_count": 52,
     "metadata": {},
     "output_type": "execute_result"
    }
   ],
   "source": [
    "Playstore_data.isnull().sum().sort_values(ascending = False)"
   ]
  },
  {
   "cell_type": "code",
   "execution_count": 53,
   "id": "8b13b122",
   "metadata": {},
   "outputs": [
    {
     "data": {
      "text/plain": [
       "0        4.1\n",
       "1        3.9\n",
       "2        4.7\n",
       "3        4.5\n",
       "4        4.3\n",
       "        ... \n",
       "10834    4.0\n",
       "10836    4.5\n",
       "10837    5.0\n",
       "10839    4.5\n",
       "10840    4.5\n",
       "Name: Rating, Length: 9367, dtype: float64"
      ]
     },
     "execution_count": 53,
     "metadata": {},
     "output_type": "execute_result"
    }
   ],
   "source": [
    "data1 = Playstore_data['Rating'].dropna(axis = 0)\n",
    "data1"
   ]
  },
  {
   "cell_type": "code",
   "execution_count": 54,
   "id": "4672e1cc",
   "metadata": {},
   "outputs": [
    {
     "data": {
      "text/plain": [
       "0"
      ]
     },
     "execution_count": 54,
     "metadata": {},
     "output_type": "execute_result"
    }
   ],
   "source": [
    "data1.isnull().sum()"
   ]
  },
  {
   "cell_type": "markdown",
   "id": "e4167e85",
   "metadata": {},
   "source": [
    "### b. Check the null values for the Android Ver column."
   ]
  },
  {
   "cell_type": "code",
   "execution_count": 55,
   "id": "44854431",
   "metadata": {},
   "outputs": [
    {
     "data": {
      "text/plain": [
       "3"
      ]
     },
     "execution_count": 55,
     "metadata": {},
     "output_type": "execute_result"
    }
   ],
   "source": [
    "Playstore_data['Android Ver'].isnull().sum()"
   ]
  },
  {
   "cell_type": "code",
   "execution_count": 56,
   "id": "47e5025a",
   "metadata": {},
   "outputs": [
    {
     "data": {
      "text/html": [
       "<div>\n",
       "<style scoped>\n",
       "    .dataframe tbody tr th:only-of-type {\n",
       "        vertical-align: middle;\n",
       "    }\n",
       "\n",
       "    .dataframe tbody tr th {\n",
       "        vertical-align: top;\n",
       "    }\n",
       "\n",
       "    .dataframe thead th {\n",
       "        text-align: right;\n",
       "    }\n",
       "</style>\n",
       "<table border=\"1\" class=\"dataframe\">\n",
       "  <thead>\n",
       "    <tr style=\"text-align: right;\">\n",
       "      <th></th>\n",
       "      <th>App</th>\n",
       "      <th>Category</th>\n",
       "      <th>Rating</th>\n",
       "      <th>Reviews</th>\n",
       "      <th>Size</th>\n",
       "      <th>Installs</th>\n",
       "      <th>Type</th>\n",
       "      <th>Price</th>\n",
       "      <th>Content Rating</th>\n",
       "      <th>Genres</th>\n",
       "      <th>Last Updated</th>\n",
       "      <th>Current Ver</th>\n",
       "      <th>Android Ver</th>\n",
       "    </tr>\n",
       "  </thead>\n",
       "  <tbody>\n",
       "    <tr>\n",
       "      <th>4453</th>\n",
       "      <td>[substratum] Vacuum: P</td>\n",
       "      <td>PERSONALIZATION</td>\n",
       "      <td>4.4</td>\n",
       "      <td>230</td>\n",
       "      <td>11000.000000</td>\n",
       "      <td>1,000+</td>\n",
       "      <td>Paid</td>\n",
       "      <td>$1.49</td>\n",
       "      <td>Everyone</td>\n",
       "      <td>Personalization</td>\n",
       "      <td>July 20, 2018</td>\n",
       "      <td>4.4</td>\n",
       "      <td>NaN</td>\n",
       "    </tr>\n",
       "    <tr>\n",
       "      <th>4490</th>\n",
       "      <td>Pi Dark [substratum]</td>\n",
       "      <td>PERSONALIZATION</td>\n",
       "      <td>4.5</td>\n",
       "      <td>189</td>\n",
       "      <td>2100.000000</td>\n",
       "      <td>10,000+</td>\n",
       "      <td>Free</td>\n",
       "      <td>0</td>\n",
       "      <td>Everyone</td>\n",
       "      <td>Personalization</td>\n",
       "      <td>March 27, 2018</td>\n",
       "      <td>1.1</td>\n",
       "      <td>NaN</td>\n",
       "    </tr>\n",
       "    <tr>\n",
       "      <th>10472</th>\n",
       "      <td>Life Made WI-Fi Touchscreen Photo Frame</td>\n",
       "      <td>1.9</td>\n",
       "      <td>19.0</td>\n",
       "      <td>3.0M</td>\n",
       "      <td>21516.529524</td>\n",
       "      <td>Free</td>\n",
       "      <td>0</td>\n",
       "      <td>Everyone</td>\n",
       "      <td>NaN</td>\n",
       "      <td>February 11, 2018</td>\n",
       "      <td>1.0.19</td>\n",
       "      <td>4.0 and up</td>\n",
       "      <td>NaN</td>\n",
       "    </tr>\n",
       "  </tbody>\n",
       "</table>\n",
       "</div>"
      ],
      "text/plain": [
       "                                           App         Category  Rating  \\\n",
       "4453                    [substratum] Vacuum: P  PERSONALIZATION     4.4   \n",
       "4490                      Pi Dark [substratum]  PERSONALIZATION     4.5   \n",
       "10472  Life Made WI-Fi Touchscreen Photo Frame              1.9    19.0   \n",
       "\n",
       "      Reviews          Size Installs  Type     Price Content Rating  \\\n",
       "4453      230  11000.000000   1,000+  Paid     $1.49       Everyone   \n",
       "4490      189   2100.000000  10,000+  Free         0       Everyone   \n",
       "10472    3.0M  21516.529524     Free     0  Everyone            NaN   \n",
       "\n",
       "                  Genres    Last Updated Current Ver Android Ver  \n",
       "4453     Personalization   July 20, 2018         4.4         NaN  \n",
       "4490     Personalization  March 27, 2018         1.1         NaN  \n",
       "10472  February 11, 2018          1.0.19  4.0 and up         NaN  "
      ]
     },
     "execution_count": 56,
     "metadata": {},
     "output_type": "execute_result"
    }
   ],
   "source": [
    "Playstore_data.loc[Playstore_data['Android Ver'].isnull()]"
   ]
  },
  {
   "cell_type": "markdown",
   "id": "08885333",
   "metadata": {},
   "source": [
    "#### i. Are all 3 records having the same problem?"
   ]
  },
  {
   "cell_type": "markdown",
   "id": "6426c44f",
   "metadata": {},
   "source": [
    "###### Yes, all 3 records are having same problem ie all are NaN."
   ]
  },
  {
   "cell_type": "markdown",
   "id": "da448d8a",
   "metadata": {},
   "source": [
    "#### ii. Drop the 3rd record i.e. record for “Life Made WIFI …”"
   ]
  },
  {
   "cell_type": "code",
   "execution_count": 57,
   "id": "436b44ce",
   "metadata": {},
   "outputs": [],
   "source": [
    "Playstore_data.drop(([10472]),inplace = True)"
   ]
  },
  {
   "cell_type": "code",
   "execution_count": 58,
   "id": "ff8410ec",
   "metadata": {},
   "outputs": [
    {
     "data": {
      "text/html": [
       "<div>\n",
       "<style scoped>\n",
       "    .dataframe tbody tr th:only-of-type {\n",
       "        vertical-align: middle;\n",
       "    }\n",
       "\n",
       "    .dataframe tbody tr th {\n",
       "        vertical-align: top;\n",
       "    }\n",
       "\n",
       "    .dataframe thead th {\n",
       "        text-align: right;\n",
       "    }\n",
       "</style>\n",
       "<table border=\"1\" class=\"dataframe\">\n",
       "  <thead>\n",
       "    <tr style=\"text-align: right;\">\n",
       "      <th></th>\n",
       "      <th>App</th>\n",
       "      <th>Category</th>\n",
       "      <th>Rating</th>\n",
       "      <th>Reviews</th>\n",
       "      <th>Size</th>\n",
       "      <th>Installs</th>\n",
       "      <th>Type</th>\n",
       "      <th>Price</th>\n",
       "      <th>Content Rating</th>\n",
       "      <th>Genres</th>\n",
       "      <th>Last Updated</th>\n",
       "      <th>Current Ver</th>\n",
       "      <th>Android Ver</th>\n",
       "    </tr>\n",
       "  </thead>\n",
       "  <tbody>\n",
       "    <tr>\n",
       "      <th>4453</th>\n",
       "      <td>[substratum] Vacuum: P</td>\n",
       "      <td>PERSONALIZATION</td>\n",
       "      <td>4.4</td>\n",
       "      <td>230</td>\n",
       "      <td>11000.0</td>\n",
       "      <td>1,000+</td>\n",
       "      <td>Paid</td>\n",
       "      <td>$1.49</td>\n",
       "      <td>Everyone</td>\n",
       "      <td>Personalization</td>\n",
       "      <td>July 20, 2018</td>\n",
       "      <td>4.4</td>\n",
       "      <td>NaN</td>\n",
       "    </tr>\n",
       "    <tr>\n",
       "      <th>4490</th>\n",
       "      <td>Pi Dark [substratum]</td>\n",
       "      <td>PERSONALIZATION</td>\n",
       "      <td>4.5</td>\n",
       "      <td>189</td>\n",
       "      <td>2100.0</td>\n",
       "      <td>10,000+</td>\n",
       "      <td>Free</td>\n",
       "      <td>0</td>\n",
       "      <td>Everyone</td>\n",
       "      <td>Personalization</td>\n",
       "      <td>March 27, 2018</td>\n",
       "      <td>1.1</td>\n",
       "      <td>NaN</td>\n",
       "    </tr>\n",
       "  </tbody>\n",
       "</table>\n",
       "</div>"
      ],
      "text/plain": [
       "                         App         Category  Rating Reviews     Size  \\\n",
       "4453  [substratum] Vacuum: P  PERSONALIZATION     4.4     230  11000.0   \n",
       "4490    Pi Dark [substratum]  PERSONALIZATION     4.5     189   2100.0   \n",
       "\n",
       "     Installs  Type  Price Content Rating           Genres    Last Updated  \\\n",
       "4453   1,000+  Paid  $1.49       Everyone  Personalization   July 20, 2018   \n",
       "4490  10,000+  Free      0       Everyone  Personalization  March 27, 2018   \n",
       "\n",
       "     Current Ver Android Ver  \n",
       "4453         4.4         NaN  \n",
       "4490         1.1         NaN  "
      ]
     },
     "execution_count": 58,
     "metadata": {},
     "output_type": "execute_result"
    }
   ],
   "source": [
    "Playstore_data.loc[Playstore_data['Android Ver'].isnull()]"
   ]
  },
  {
   "cell_type": "markdown",
   "id": "0e92cf76",
   "metadata": {},
   "source": [
    "#### iii. Replace remaining missing values with the mode"
   ]
  },
  {
   "cell_type": "code",
   "execution_count": 59,
   "id": "826bdd3c",
   "metadata": {},
   "outputs": [
    {
     "data": {
      "text/plain": [
       "0    4.1 and up\n",
       "dtype: object"
      ]
     },
     "execution_count": 59,
     "metadata": {},
     "output_type": "execute_result"
    }
   ],
   "source": [
    "Playstore_data['Android Ver'].mode()"
   ]
  },
  {
   "cell_type": "code",
   "execution_count": 60,
   "id": "68bf7c76",
   "metadata": {},
   "outputs": [],
   "source": [
    "Playstore_data['Android Ver'].fillna(Playstore_data['Android Ver'].mode()[0],inplace = True)"
   ]
  },
  {
   "cell_type": "markdown",
   "id": "3d72fbe4",
   "metadata": {},
   "source": [
    "### c. Current ver – replace with most common value"
   ]
  },
  {
   "cell_type": "code",
   "execution_count": 61,
   "id": "1ae930da",
   "metadata": {},
   "outputs": [
    {
     "data": {
      "text/plain": [
       "0                     1.0.0\n",
       "1                     2.0.0\n",
       "2                     1.2.4\n",
       "3        Varies with device\n",
       "4                       1.1\n",
       "                ...        \n",
       "10836                  1.48\n",
       "10837                   1.0\n",
       "10838                   1.0\n",
       "10839    Varies with device\n",
       "10840    Varies with device\n",
       "Name: Current Ver, Length: 10840, dtype: object"
      ]
     },
     "execution_count": 61,
     "metadata": {},
     "output_type": "execute_result"
    }
   ],
   "source": [
    "Playstore_data['Current Ver']"
   ]
  },
  {
   "cell_type": "code",
   "execution_count": 62,
   "id": "0c1d423f",
   "metadata": {},
   "outputs": [
    {
     "data": {
      "text/plain": [
       "0    Varies with device\n",
       "dtype: object"
      ]
     },
     "execution_count": 62,
     "metadata": {},
     "output_type": "execute_result"
    }
   ],
   "source": [
    "Playstore_data['Current Ver'].mode()"
   ]
  },
  {
   "cell_type": "code",
   "execution_count": 63,
   "id": "de01e375",
   "metadata": {},
   "outputs": [],
   "source": [
    "Playstore_data['Current Ver'].fillna(Playstore_data['Current Ver'].mode()[0], inplace=True)"
   ]
  },
  {
   "cell_type": "markdown",
   "id": "5813146a",
   "metadata": {},
   "source": [
    "## 2. Data clean up – correcting the data types"
   ]
  },
  {
   "cell_type": "markdown",
   "id": "6d161f5f",
   "metadata": {},
   "source": [
    "### a. Which all variables need to be brought to numeric types?"
   ]
  },
  {
   "cell_type": "markdown",
   "id": "45e2dbef",
   "metadata": {},
   "source": [
    "##### Reviews and installs need to be brought to numeric types."
   ]
  },
  {
   "cell_type": "markdown",
   "id": "9cd772ad",
   "metadata": {},
   "source": [
    "### b. Price variable – remove $ sign and convert to float"
   ]
  },
  {
   "cell_type": "code",
   "execution_count": 64,
   "id": "11a89ff4",
   "metadata": {},
   "outputs": [],
   "source": [
    "Playstore_data['Price'] = [x.strip('$') for x in Playstore_data['Price']]"
   ]
  },
  {
   "cell_type": "code",
   "execution_count": 65,
   "id": "df371d15",
   "metadata": {},
   "outputs": [
    {
     "data": {
      "text/plain": [
       "App                object\n",
       "Category           object\n",
       "Rating            float64\n",
       "Reviews            object\n",
       "Size              float64\n",
       "Installs           object\n",
       "Type               object\n",
       "Price              object\n",
       "Content Rating     object\n",
       "Genres             object\n",
       "Last Updated       object\n",
       "Current Ver        object\n",
       "Android Ver        object\n",
       "dtype: object"
      ]
     },
     "execution_count": 65,
     "metadata": {},
     "output_type": "execute_result"
    }
   ],
   "source": [
    "Playstore_data.dtypes"
   ]
  },
  {
   "cell_type": "code",
   "execution_count": 66,
   "id": "c8f3048a",
   "metadata": {},
   "outputs": [],
   "source": [
    "Playstore_data['Price'] = Playstore_data['Price'].astype('float')"
   ]
  },
  {
   "cell_type": "markdown",
   "id": "55207854",
   "metadata": {},
   "source": [
    "### c. Installs – remove ‘,’ and ‘+’ sign, convert to integer"
   ]
  },
  {
   "cell_type": "code",
   "execution_count": 67,
   "id": "f12cefad",
   "metadata": {},
   "outputs": [
    {
     "data": {
      "text/plain": [
       "0            10,000+\n",
       "1           500,000+\n",
       "2         5,000,000+\n",
       "3        50,000,000+\n",
       "4           100,000+\n",
       "            ...     \n",
       "10836         5,000+\n",
       "10837           100+\n",
       "10838         1,000+\n",
       "10839         1,000+\n",
       "10840    10,000,000+\n",
       "Name: Installs, Length: 10840, dtype: object"
      ]
     },
     "execution_count": 67,
     "metadata": {},
     "output_type": "execute_result"
    }
   ],
   "source": [
    "Playstore_data['Installs']"
   ]
  },
  {
   "cell_type": "code",
   "execution_count": 68,
   "id": "01d0d0b9",
   "metadata": {},
   "outputs": [
    {
     "name": "stderr",
     "output_type": "stream",
     "text": [
      "<ipython-input-68-c9ca19ed6fc9>:1: FutureWarning: The default value of regex will change from True to False in a future version. In addition, single character regular expressions will*not* be treated as literal strings when regex=True.\n",
      "  Playstore_data['Installs'].str.replace(',','').str.replace('+','')\n"
     ]
    },
    {
     "data": {
      "text/plain": [
       "0           10000\n",
       "1          500000\n",
       "2         5000000\n",
       "3        50000000\n",
       "4          100000\n",
       "           ...   \n",
       "10836        5000\n",
       "10837         100\n",
       "10838        1000\n",
       "10839        1000\n",
       "10840    10000000\n",
       "Name: Installs, Length: 10840, dtype: object"
      ]
     },
     "execution_count": 68,
     "metadata": {},
     "output_type": "execute_result"
    }
   ],
   "source": [
    "Playstore_data['Installs'].str.replace(',','').str.replace('+','')"
   ]
  },
  {
   "cell_type": "code",
   "execution_count": 69,
   "id": "7e759822",
   "metadata": {
    "scrolled": false
   },
   "outputs": [
    {
     "name": "stderr",
     "output_type": "stream",
     "text": [
      "<ipython-input-69-68d65c39c68f>:1: FutureWarning: The default value of regex will change from True to False in a future version. In addition, single character regular expressions will*not* be treated as literal strings when regex=True.\n",
      "  Playstore_data['Installs'] = Playstore_data['Installs'].str.replace(',','').str.replace('+','').astype('int64')\n"
     ]
    }
   ],
   "source": [
    "Playstore_data['Installs'] = Playstore_data['Installs'].str.replace(',','').str.replace('+','').astype('int64')"
   ]
  },
  {
   "cell_type": "markdown",
   "id": "9ffdbbeb",
   "metadata": {},
   "source": [
    "### d. Convert all other identified columns to numeric"
   ]
  },
  {
   "cell_type": "code",
   "execution_count": 70,
   "id": "688bd182",
   "metadata": {},
   "outputs": [
    {
     "data": {
      "text/plain": [
       "dtype('int64')"
      ]
     },
     "execution_count": 70,
     "metadata": {},
     "output_type": "execute_result"
    }
   ],
   "source": [
    "Playstore_data['Reviews']= Playstore_data['Reviews'].astype('int64')\n",
    "Playstore_data['Reviews'].dtypes"
   ]
  },
  {
   "cell_type": "markdown",
   "id": "3206251c",
   "metadata": {},
   "source": [
    "## 3. Sanity checks – check for the following and handle accordingly"
   ]
  },
  {
   "cell_type": "markdown",
   "id": "2bd7ba36",
   "metadata": {},
   "source": [
    "### a. Avg. rating should be between 1 and 5, as only these values are allowed on the playstore.\n"
   ]
  },
  {
   "cell_type": "markdown",
   "id": "cfa81f16",
   "metadata": {},
   "source": [
    "#### i. Are there any such records? Drop if so."
   ]
  },
  {
   "cell_type": "code",
   "execution_count": 71,
   "id": "f19c1e11",
   "metadata": {},
   "outputs": [
    {
     "data": {
      "text/html": [
       "<div>\n",
       "<style scoped>\n",
       "    .dataframe tbody tr th:only-of-type {\n",
       "        vertical-align: middle;\n",
       "    }\n",
       "\n",
       "    .dataframe tbody tr th {\n",
       "        vertical-align: top;\n",
       "    }\n",
       "\n",
       "    .dataframe thead th {\n",
       "        text-align: right;\n",
       "    }\n",
       "</style>\n",
       "<table border=\"1\" class=\"dataframe\">\n",
       "  <thead>\n",
       "    <tr style=\"text-align: right;\">\n",
       "      <th></th>\n",
       "      <th>App</th>\n",
       "      <th>Category</th>\n",
       "      <th>Rating</th>\n",
       "      <th>Reviews</th>\n",
       "      <th>Size</th>\n",
       "      <th>Installs</th>\n",
       "      <th>Type</th>\n",
       "      <th>Price</th>\n",
       "      <th>Content Rating</th>\n",
       "      <th>Genres</th>\n",
       "      <th>Last Updated</th>\n",
       "      <th>Current Ver</th>\n",
       "      <th>Android Ver</th>\n",
       "    </tr>\n",
       "  </thead>\n",
       "  <tbody>\n",
       "  </tbody>\n",
       "</table>\n",
       "</div>"
      ],
      "text/plain": [
       "Empty DataFrame\n",
       "Columns: [App, Category, Rating, Reviews, Size, Installs, Type, Price, Content Rating, Genres, Last Updated, Current Ver, Android Ver]\n",
       "Index: []"
      ]
     },
     "execution_count": 71,
     "metadata": {},
     "output_type": "execute_result"
    }
   ],
   "source": [
    "Playstore_data.loc[Playstore_data.Rating < 1] & Playstore_data.loc[Playstore_data.Rating > 5]"
   ]
  },
  {
   "cell_type": "markdown",
   "id": "4a1b58c1",
   "metadata": {},
   "source": [
    "##### There are no such records with rating less than 1 or greater than 5."
   ]
  },
  {
   "cell_type": "markdown",
   "id": "ebdb5f61",
   "metadata": {},
   "source": [
    "### b. Reviews should not be more than installs as only those who installed can review the app."
   ]
  },
  {
   "cell_type": "markdown",
   "id": "407dd6e9",
   "metadata": {},
   "source": [
    "#### i. Are there any such records? Drop if so."
   ]
  },
  {
   "cell_type": "markdown",
   "id": "26a90b40",
   "metadata": {},
   "source": [
    "##### Yes, there are 7 records where Review is greater than Installs."
   ]
  },
  {
   "cell_type": "code",
   "execution_count": 74,
   "id": "c7ddc135",
   "metadata": {},
   "outputs": [
    {
     "data": {
      "text/plain": [
       "dtype('int64')"
      ]
     },
     "execution_count": 74,
     "metadata": {},
     "output_type": "execute_result"
    }
   ],
   "source": [
    "Playstore_data['Reviews'].dtypes"
   ]
  },
  {
   "cell_type": "code",
   "execution_count": 75,
   "id": "2c3b0bf8",
   "metadata": {},
   "outputs": [
    {
     "data": {
      "text/plain": [
       "dtype('int64')"
      ]
     },
     "execution_count": 75,
     "metadata": {},
     "output_type": "execute_result"
    }
   ],
   "source": [
    "Playstore_data['Installs'].dtypes"
   ]
  },
  {
   "cell_type": "code",
   "execution_count": 76,
   "id": "7d49db49",
   "metadata": {},
   "outputs": [
    {
     "data": {
      "text/html": [
       "<div>\n",
       "<style scoped>\n",
       "    .dataframe tbody tr th:only-of-type {\n",
       "        vertical-align: middle;\n",
       "    }\n",
       "\n",
       "    .dataframe tbody tr th {\n",
       "        vertical-align: top;\n",
       "    }\n",
       "\n",
       "    .dataframe thead th {\n",
       "        text-align: right;\n",
       "    }\n",
       "</style>\n",
       "<table border=\"1\" class=\"dataframe\">\n",
       "  <thead>\n",
       "    <tr style=\"text-align: right;\">\n",
       "      <th></th>\n",
       "      <th>App</th>\n",
       "      <th>Category</th>\n",
       "      <th>Rating</th>\n",
       "      <th>Reviews</th>\n",
       "      <th>Size</th>\n",
       "      <th>Installs</th>\n",
       "      <th>Type</th>\n",
       "      <th>Price</th>\n",
       "      <th>Content Rating</th>\n",
       "      <th>Genres</th>\n",
       "      <th>Last Updated</th>\n",
       "      <th>Current Ver</th>\n",
       "      <th>Android Ver</th>\n",
       "    </tr>\n",
       "  </thead>\n",
       "  <tbody>\n",
       "    <tr>\n",
       "      <th>2454</th>\n",
       "      <td>KBA-EZ Health Guide</td>\n",
       "      <td>MEDICAL</td>\n",
       "      <td>5.0</td>\n",
       "      <td>4</td>\n",
       "      <td>25000.000000</td>\n",
       "      <td>1</td>\n",
       "      <td>Free</td>\n",
       "      <td>0.00</td>\n",
       "      <td>Everyone</td>\n",
       "      <td>Medical</td>\n",
       "      <td>August 2, 2018</td>\n",
       "      <td>1.0.72</td>\n",
       "      <td>4.0.3 and up</td>\n",
       "    </tr>\n",
       "    <tr>\n",
       "      <th>4550</th>\n",
       "      <td>RMEduS - 음성인식을 활용한 R 프로그래밍 실습 시스템</td>\n",
       "      <td>FAMILY</td>\n",
       "      <td>NaN</td>\n",
       "      <td>4</td>\n",
       "      <td>64000.000000</td>\n",
       "      <td>1</td>\n",
       "      <td>Free</td>\n",
       "      <td>0.00</td>\n",
       "      <td>Everyone</td>\n",
       "      <td>Education</td>\n",
       "      <td>July 17, 2018</td>\n",
       "      <td>1.0.1</td>\n",
       "      <td>4.4 and up</td>\n",
       "    </tr>\n",
       "    <tr>\n",
       "      <th>4663</th>\n",
       "      <td>Alarmy (Sleep If U Can) - Pro</td>\n",
       "      <td>LIFESTYLE</td>\n",
       "      <td>4.8</td>\n",
       "      <td>10249</td>\n",
       "      <td>21516.529524</td>\n",
       "      <td>10000</td>\n",
       "      <td>Paid</td>\n",
       "      <td>2.49</td>\n",
       "      <td>Everyone</td>\n",
       "      <td>Lifestyle</td>\n",
       "      <td>July 30, 2018</td>\n",
       "      <td>Varies with device</td>\n",
       "      <td>Varies with device</td>\n",
       "    </tr>\n",
       "    <tr>\n",
       "      <th>5812</th>\n",
       "      <td>AX Watch for WatchMaker</td>\n",
       "      <td>PERSONALIZATION</td>\n",
       "      <td>NaN</td>\n",
       "      <td>2</td>\n",
       "      <td>238.000000</td>\n",
       "      <td>1</td>\n",
       "      <td>Paid</td>\n",
       "      <td>0.99</td>\n",
       "      <td>Everyone</td>\n",
       "      <td>Personalization</td>\n",
       "      <td>August 18, 2017</td>\n",
       "      <td>1.0</td>\n",
       "      <td>2.3 and up</td>\n",
       "    </tr>\n",
       "    <tr>\n",
       "      <th>5917</th>\n",
       "      <td>Ra Ga Ba</td>\n",
       "      <td>GAME</td>\n",
       "      <td>5.0</td>\n",
       "      <td>2</td>\n",
       "      <td>20000.000000</td>\n",
       "      <td>1</td>\n",
       "      <td>Paid</td>\n",
       "      <td>1.49</td>\n",
       "      <td>Everyone</td>\n",
       "      <td>Arcade</td>\n",
       "      <td>February 8, 2017</td>\n",
       "      <td>1.0.4</td>\n",
       "      <td>2.3 and up</td>\n",
       "    </tr>\n",
       "    <tr>\n",
       "      <th>6508</th>\n",
       "      <td>Sam.BN Pro</td>\n",
       "      <td>TOOLS</td>\n",
       "      <td>NaN</td>\n",
       "      <td>11</td>\n",
       "      <td>2000.000000</td>\n",
       "      <td>10</td>\n",
       "      <td>Paid</td>\n",
       "      <td>0.99</td>\n",
       "      <td>Everyone</td>\n",
       "      <td>Tools</td>\n",
       "      <td>March 27, 2015</td>\n",
       "      <td>1.0.0</td>\n",
       "      <td>4.0.3 and up</td>\n",
       "    </tr>\n",
       "    <tr>\n",
       "      <th>6700</th>\n",
       "      <td>Brick Breaker BR</td>\n",
       "      <td>GAME</td>\n",
       "      <td>5.0</td>\n",
       "      <td>7</td>\n",
       "      <td>19000.000000</td>\n",
       "      <td>5</td>\n",
       "      <td>Free</td>\n",
       "      <td>0.00</td>\n",
       "      <td>Everyone</td>\n",
       "      <td>Arcade</td>\n",
       "      <td>July 23, 2018</td>\n",
       "      <td>1.0</td>\n",
       "      <td>4.1 and up</td>\n",
       "    </tr>\n",
       "    <tr>\n",
       "      <th>7402</th>\n",
       "      <td>Trovami se ci riesci</td>\n",
       "      <td>GAME</td>\n",
       "      <td>5.0</td>\n",
       "      <td>11</td>\n",
       "      <td>6100.000000</td>\n",
       "      <td>10</td>\n",
       "      <td>Free</td>\n",
       "      <td>0.00</td>\n",
       "      <td>Everyone</td>\n",
       "      <td>Arcade</td>\n",
       "      <td>March 11, 2017</td>\n",
       "      <td>0.1</td>\n",
       "      <td>2.3 and up</td>\n",
       "    </tr>\n",
       "    <tr>\n",
       "      <th>8591</th>\n",
       "      <td>DN Blog</td>\n",
       "      <td>SOCIAL</td>\n",
       "      <td>5.0</td>\n",
       "      <td>20</td>\n",
       "      <td>4200.000000</td>\n",
       "      <td>10</td>\n",
       "      <td>Free</td>\n",
       "      <td>0.00</td>\n",
       "      <td>Teen</td>\n",
       "      <td>Social</td>\n",
       "      <td>July 23, 2018</td>\n",
       "      <td>1.0</td>\n",
       "      <td>4.0 and up</td>\n",
       "    </tr>\n",
       "    <tr>\n",
       "      <th>9096</th>\n",
       "      <td>DZ Puzzle</td>\n",
       "      <td>FAMILY</td>\n",
       "      <td>NaN</td>\n",
       "      <td>14</td>\n",
       "      <td>47000.000000</td>\n",
       "      <td>10</td>\n",
       "      <td>Paid</td>\n",
       "      <td>0.99</td>\n",
       "      <td>Everyone</td>\n",
       "      <td>Puzzle</td>\n",
       "      <td>April 22, 2017</td>\n",
       "      <td>1.2</td>\n",
       "      <td>2.3 and up</td>\n",
       "    </tr>\n",
       "    <tr>\n",
       "      <th>10697</th>\n",
       "      <td>Mu.F.O.</td>\n",
       "      <td>GAME</td>\n",
       "      <td>5.0</td>\n",
       "      <td>2</td>\n",
       "      <td>16000.000000</td>\n",
       "      <td>1</td>\n",
       "      <td>Paid</td>\n",
       "      <td>0.99</td>\n",
       "      <td>Everyone</td>\n",
       "      <td>Arcade</td>\n",
       "      <td>March 3, 2017</td>\n",
       "      <td>1.0</td>\n",
       "      <td>2.3 and up</td>\n",
       "    </tr>\n",
       "  </tbody>\n",
       "</table>\n",
       "</div>"
      ],
      "text/plain": [
       "                                     App         Category  Rating  Reviews  \\\n",
       "2454                 KBA-EZ Health Guide          MEDICAL     5.0        4   \n",
       "4550   RMEduS - 음성인식을 활용한 R 프로그래밍 실습 시스템           FAMILY     NaN        4   \n",
       "4663       Alarmy (Sleep If U Can) - Pro        LIFESTYLE     4.8    10249   \n",
       "5812             AX Watch for WatchMaker  PERSONALIZATION     NaN        2   \n",
       "5917                            Ra Ga Ba             GAME     5.0        2   \n",
       "6508                          Sam.BN Pro            TOOLS     NaN       11   \n",
       "6700                    Brick Breaker BR             GAME     5.0        7   \n",
       "7402                Trovami se ci riesci             GAME     5.0       11   \n",
       "8591                             DN Blog           SOCIAL     5.0       20   \n",
       "9096                           DZ Puzzle           FAMILY     NaN       14   \n",
       "10697                            Mu.F.O.             GAME     5.0        2   \n",
       "\n",
       "               Size  Installs  Type  Price Content Rating           Genres  \\\n",
       "2454   25000.000000         1  Free   0.00       Everyone          Medical   \n",
       "4550   64000.000000         1  Free   0.00       Everyone        Education   \n",
       "4663   21516.529524     10000  Paid   2.49       Everyone        Lifestyle   \n",
       "5812     238.000000         1  Paid   0.99       Everyone  Personalization   \n",
       "5917   20000.000000         1  Paid   1.49       Everyone           Arcade   \n",
       "6508    2000.000000        10  Paid   0.99       Everyone            Tools   \n",
       "6700   19000.000000         5  Free   0.00       Everyone           Arcade   \n",
       "7402    6100.000000        10  Free   0.00       Everyone           Arcade   \n",
       "8591    4200.000000        10  Free   0.00           Teen           Social   \n",
       "9096   47000.000000        10  Paid   0.99       Everyone           Puzzle   \n",
       "10697  16000.000000         1  Paid   0.99       Everyone           Arcade   \n",
       "\n",
       "           Last Updated         Current Ver         Android Ver  \n",
       "2454     August 2, 2018              1.0.72        4.0.3 and up  \n",
       "4550      July 17, 2018               1.0.1          4.4 and up  \n",
       "4663      July 30, 2018  Varies with device  Varies with device  \n",
       "5812    August 18, 2017                 1.0          2.3 and up  \n",
       "5917   February 8, 2017               1.0.4          2.3 and up  \n",
       "6508     March 27, 2015               1.0.0        4.0.3 and up  \n",
       "6700      July 23, 2018                 1.0          4.1 and up  \n",
       "7402     March 11, 2017                 0.1          2.3 and up  \n",
       "8591      July 23, 2018                 1.0          4.0 and up  \n",
       "9096     April 22, 2017                 1.2          2.3 and up  \n",
       "10697     March 3, 2017                 1.0          2.3 and up  "
      ]
     },
     "execution_count": 76,
     "metadata": {},
     "output_type": "execute_result"
    }
   ],
   "source": [
    "Playstore_data.loc[Playstore_data['Reviews'] > Playstore_data['Installs']]"
   ]
  },
  {
   "cell_type": "code",
   "execution_count": 77,
   "id": "ebf39d25",
   "metadata": {},
   "outputs": [],
   "source": [
    "Drop = Playstore_data[Playstore_data['Reviews'] > Playstore_data['Installs']].index\n",
    "Playstore_data.drop(labels=Drop, inplace=True)"
   ]
  },
  {
   "cell_type": "code",
   "execution_count": 78,
   "id": "ff4268fc",
   "metadata": {},
   "outputs": [
    {
     "data": {
      "text/html": [
       "<div>\n",
       "<style scoped>\n",
       "    .dataframe tbody tr th:only-of-type {\n",
       "        vertical-align: middle;\n",
       "    }\n",
       "\n",
       "    .dataframe tbody tr th {\n",
       "        vertical-align: top;\n",
       "    }\n",
       "\n",
       "    .dataframe thead th {\n",
       "        text-align: right;\n",
       "    }\n",
       "</style>\n",
       "<table border=\"1\" class=\"dataframe\">\n",
       "  <thead>\n",
       "    <tr style=\"text-align: right;\">\n",
       "      <th></th>\n",
       "      <th>App</th>\n",
       "      <th>Category</th>\n",
       "      <th>Rating</th>\n",
       "      <th>Reviews</th>\n",
       "      <th>Size</th>\n",
       "      <th>Installs</th>\n",
       "      <th>Type</th>\n",
       "      <th>Price</th>\n",
       "      <th>Content Rating</th>\n",
       "      <th>Genres</th>\n",
       "      <th>Last Updated</th>\n",
       "      <th>Current Ver</th>\n",
       "      <th>Android Ver</th>\n",
       "    </tr>\n",
       "  </thead>\n",
       "  <tbody>\n",
       "  </tbody>\n",
       "</table>\n",
       "</div>"
      ],
      "text/plain": [
       "Empty DataFrame\n",
       "Columns: [App, Category, Rating, Reviews, Size, Installs, Type, Price, Content Rating, Genres, Last Updated, Current Ver, Android Ver]\n",
       "Index: []"
      ]
     },
     "execution_count": 78,
     "metadata": {},
     "output_type": "execute_result"
    }
   ],
   "source": [
    "Playstore_data.loc[Playstore_data['Reviews'] > Playstore_data['Installs']]"
   ]
  },
  {
   "cell_type": "markdown",
   "id": "43042524",
   "metadata": {},
   "source": [
    "## 4. Identify and handle outliers –¶"
   ]
  },
  {
   "cell_type": "markdown",
   "id": "f0313176",
   "metadata": {},
   "source": [
    "### a. Price column"
   ]
  },
  {
   "cell_type": "markdown",
   "id": "349e283e",
   "metadata": {},
   "source": [
    "#### i. Make suitable plot to identify outliers in price"
   ]
  },
  {
   "cell_type": "code",
   "execution_count": 79,
   "id": "e8ed64eb",
   "metadata": {},
   "outputs": [
    {
     "data": {
      "image/png": "[encoded data removed]",
      "text/plain": [
       "<Figure size 432x288 with 1 Axes>"
      ]
     },
     "metadata": {},
     "output_type": "display_data"
    }
   ],
   "source": [
    "red_diamond = dict(markerfacecolor='r', marker='D')\n",
    "\n",
    "plt.title(\"price distribution\")\n",
    "plt.boxplot(Playstore_data['Price'],flierprops=red_diamond)\n",
    "plt.show()    "
   ]
  },
  {
   "cell_type": "markdown",
   "id": "a3d02f47",
   "metadata": {},
   "source": [
    "#### ii. Do you expect apps on the play store to cost $200? Check out these cases"
   ]
  },
  {
   "cell_type": "code",
   "execution_count": 80,
   "id": "eebff978",
   "metadata": {},
   "outputs": [
    {
     "name": "stdout",
     "output_type": "stream",
     "text": [
      "Yes we can expect apps on the play store to cost $200\n"
     ]
    },
    {
     "data": {
      "text/html": [
       "<div>\n",
       "<style scoped>\n",
       "    .dataframe tbody tr th:only-of-type {\n",
       "        vertical-align: middle;\n",
       "    }\n",
       "\n",
       "    .dataframe tbody tr th {\n",
       "        vertical-align: top;\n",
       "    }\n",
       "\n",
       "    .dataframe thead th {\n",
       "        text-align: right;\n",
       "    }\n",
       "</style>\n",
       "<table border=\"1\" class=\"dataframe\">\n",
       "  <thead>\n",
       "    <tr style=\"text-align: right;\">\n",
       "      <th></th>\n",
       "      <th>App</th>\n",
       "      <th>Category</th>\n",
       "      <th>Rating</th>\n",
       "      <th>Reviews</th>\n",
       "      <th>Size</th>\n",
       "      <th>Installs</th>\n",
       "      <th>Type</th>\n",
       "      <th>Price</th>\n",
       "      <th>Content Rating</th>\n",
       "      <th>Genres</th>\n",
       "      <th>Last Updated</th>\n",
       "      <th>Current Ver</th>\n",
       "      <th>Android Ver</th>\n",
       "    </tr>\n",
       "  </thead>\n",
       "  <tbody>\n",
       "    <tr>\n",
       "      <th>4197</th>\n",
       "      <td>most expensive app (H)</td>\n",
       "      <td>FAMILY</td>\n",
       "      <td>4.3</td>\n",
       "      <td>6</td>\n",
       "      <td>1500.0</td>\n",
       "      <td>100</td>\n",
       "      <td>Paid</td>\n",
       "      <td>399.99</td>\n",
       "      <td>Everyone</td>\n",
       "      <td>Entertainment</td>\n",
       "      <td>July 16, 2018</td>\n",
       "      <td>1.0</td>\n",
       "      <td>7.0 and up</td>\n",
       "    </tr>\n",
       "    <tr>\n",
       "      <th>4362</th>\n",
       "      <td>💎 I'm rich</td>\n",
       "      <td>LIFESTYLE</td>\n",
       "      <td>3.8</td>\n",
       "      <td>718</td>\n",
       "      <td>26000.0</td>\n",
       "      <td>10000</td>\n",
       "      <td>Paid</td>\n",
       "      <td>399.99</td>\n",
       "      <td>Everyone</td>\n",
       "      <td>Lifestyle</td>\n",
       "      <td>March 11, 2018</td>\n",
       "      <td>1.0.0</td>\n",
       "      <td>4.4 and up</td>\n",
       "    </tr>\n",
       "    <tr>\n",
       "      <th>4367</th>\n",
       "      <td>I'm Rich - Trump Edition</td>\n",
       "      <td>LIFESTYLE</td>\n",
       "      <td>3.6</td>\n",
       "      <td>275</td>\n",
       "      <td>7300.0</td>\n",
       "      <td>10000</td>\n",
       "      <td>Paid</td>\n",
       "      <td>400.00</td>\n",
       "      <td>Everyone</td>\n",
       "      <td>Lifestyle</td>\n",
       "      <td>May 3, 2018</td>\n",
       "      <td>1.0.1</td>\n",
       "      <td>4.1 and up</td>\n",
       "    </tr>\n",
       "    <tr>\n",
       "      <th>5351</th>\n",
       "      <td>I am rich</td>\n",
       "      <td>LIFESTYLE</td>\n",
       "      <td>3.8</td>\n",
       "      <td>3547</td>\n",
       "      <td>1800.0</td>\n",
       "      <td>100000</td>\n",
       "      <td>Paid</td>\n",
       "      <td>399.99</td>\n",
       "      <td>Everyone</td>\n",
       "      <td>Lifestyle</td>\n",
       "      <td>January 12, 2018</td>\n",
       "      <td>2.0</td>\n",
       "      <td>4.0.3 and up</td>\n",
       "    </tr>\n",
       "    <tr>\n",
       "      <th>5354</th>\n",
       "      <td>I am Rich Plus</td>\n",
       "      <td>FAMILY</td>\n",
       "      <td>4.0</td>\n",
       "      <td>856</td>\n",
       "      <td>8700.0</td>\n",
       "      <td>10000</td>\n",
       "      <td>Paid</td>\n",
       "      <td>399.99</td>\n",
       "      <td>Everyone</td>\n",
       "      <td>Entertainment</td>\n",
       "      <td>May 19, 2018</td>\n",
       "      <td>3.0</td>\n",
       "      <td>4.4 and up</td>\n",
       "    </tr>\n",
       "    <tr>\n",
       "      <th>5355</th>\n",
       "      <td>I am rich VIP</td>\n",
       "      <td>LIFESTYLE</td>\n",
       "      <td>3.8</td>\n",
       "      <td>411</td>\n",
       "      <td>2600.0</td>\n",
       "      <td>10000</td>\n",
       "      <td>Paid</td>\n",
       "      <td>299.99</td>\n",
       "      <td>Everyone</td>\n",
       "      <td>Lifestyle</td>\n",
       "      <td>July 21, 2018</td>\n",
       "      <td>1.1.1</td>\n",
       "      <td>4.3 and up</td>\n",
       "    </tr>\n",
       "    <tr>\n",
       "      <th>5356</th>\n",
       "      <td>I Am Rich Premium</td>\n",
       "      <td>FINANCE</td>\n",
       "      <td>4.1</td>\n",
       "      <td>1867</td>\n",
       "      <td>4700.0</td>\n",
       "      <td>50000</td>\n",
       "      <td>Paid</td>\n",
       "      <td>399.99</td>\n",
       "      <td>Everyone</td>\n",
       "      <td>Finance</td>\n",
       "      <td>November 12, 2017</td>\n",
       "      <td>1.6</td>\n",
       "      <td>4.0 and up</td>\n",
       "    </tr>\n",
       "    <tr>\n",
       "      <th>5357</th>\n",
       "      <td>I am extremely Rich</td>\n",
       "      <td>LIFESTYLE</td>\n",
       "      <td>2.9</td>\n",
       "      <td>41</td>\n",
       "      <td>2900.0</td>\n",
       "      <td>1000</td>\n",
       "      <td>Paid</td>\n",
       "      <td>379.99</td>\n",
       "      <td>Everyone</td>\n",
       "      <td>Lifestyle</td>\n",
       "      <td>July 1, 2018</td>\n",
       "      <td>1.0</td>\n",
       "      <td>4.0 and up</td>\n",
       "    </tr>\n",
       "    <tr>\n",
       "      <th>5358</th>\n",
       "      <td>I am Rich!</td>\n",
       "      <td>FINANCE</td>\n",
       "      <td>3.8</td>\n",
       "      <td>93</td>\n",
       "      <td>22000.0</td>\n",
       "      <td>1000</td>\n",
       "      <td>Paid</td>\n",
       "      <td>399.99</td>\n",
       "      <td>Everyone</td>\n",
       "      <td>Finance</td>\n",
       "      <td>December 11, 2017</td>\n",
       "      <td>1.0</td>\n",
       "      <td>4.1 and up</td>\n",
       "    </tr>\n",
       "    <tr>\n",
       "      <th>5359</th>\n",
       "      <td>I am rich(premium)</td>\n",
       "      <td>FINANCE</td>\n",
       "      <td>3.5</td>\n",
       "      <td>472</td>\n",
       "      <td>965.0</td>\n",
       "      <td>5000</td>\n",
       "      <td>Paid</td>\n",
       "      <td>399.99</td>\n",
       "      <td>Everyone</td>\n",
       "      <td>Finance</td>\n",
       "      <td>May 1, 2017</td>\n",
       "      <td>3.4</td>\n",
       "      <td>4.4 and up</td>\n",
       "    </tr>\n",
       "    <tr>\n",
       "      <th>5362</th>\n",
       "      <td>I Am Rich Pro</td>\n",
       "      <td>FAMILY</td>\n",
       "      <td>4.4</td>\n",
       "      <td>201</td>\n",
       "      <td>2700.0</td>\n",
       "      <td>5000</td>\n",
       "      <td>Paid</td>\n",
       "      <td>399.99</td>\n",
       "      <td>Everyone</td>\n",
       "      <td>Entertainment</td>\n",
       "      <td>May 30, 2017</td>\n",
       "      <td>1.54</td>\n",
       "      <td>1.6 and up</td>\n",
       "    </tr>\n",
       "    <tr>\n",
       "      <th>5364</th>\n",
       "      <td>I am rich (Most expensive app)</td>\n",
       "      <td>FINANCE</td>\n",
       "      <td>4.1</td>\n",
       "      <td>129</td>\n",
       "      <td>2700.0</td>\n",
       "      <td>1000</td>\n",
       "      <td>Paid</td>\n",
       "      <td>399.99</td>\n",
       "      <td>Teen</td>\n",
       "      <td>Finance</td>\n",
       "      <td>December 6, 2017</td>\n",
       "      <td>2</td>\n",
       "      <td>4.0.3 and up</td>\n",
       "    </tr>\n",
       "    <tr>\n",
       "      <th>5366</th>\n",
       "      <td>I Am Rich</td>\n",
       "      <td>FAMILY</td>\n",
       "      <td>3.6</td>\n",
       "      <td>217</td>\n",
       "      <td>4900.0</td>\n",
       "      <td>10000</td>\n",
       "      <td>Paid</td>\n",
       "      <td>389.99</td>\n",
       "      <td>Everyone</td>\n",
       "      <td>Entertainment</td>\n",
       "      <td>June 22, 2018</td>\n",
       "      <td>1.5</td>\n",
       "      <td>4.2 and up</td>\n",
       "    </tr>\n",
       "    <tr>\n",
       "      <th>5369</th>\n",
       "      <td>I am Rich</td>\n",
       "      <td>FINANCE</td>\n",
       "      <td>4.3</td>\n",
       "      <td>180</td>\n",
       "      <td>3800.0</td>\n",
       "      <td>5000</td>\n",
       "      <td>Paid</td>\n",
       "      <td>399.99</td>\n",
       "      <td>Everyone</td>\n",
       "      <td>Finance</td>\n",
       "      <td>March 22, 2018</td>\n",
       "      <td>1.0</td>\n",
       "      <td>4.2 and up</td>\n",
       "    </tr>\n",
       "    <tr>\n",
       "      <th>5373</th>\n",
       "      <td>I AM RICH PRO PLUS</td>\n",
       "      <td>FINANCE</td>\n",
       "      <td>4.0</td>\n",
       "      <td>36</td>\n",
       "      <td>41000.0</td>\n",
       "      <td>1000</td>\n",
       "      <td>Paid</td>\n",
       "      <td>399.99</td>\n",
       "      <td>Everyone</td>\n",
       "      <td>Finance</td>\n",
       "      <td>June 25, 2018</td>\n",
       "      <td>1.0.2</td>\n",
       "      <td>4.1 and up</td>\n",
       "    </tr>\n",
       "    <tr>\n",
       "      <th>9917</th>\n",
       "      <td>Eu Sou Rico</td>\n",
       "      <td>FINANCE</td>\n",
       "      <td>NaN</td>\n",
       "      <td>0</td>\n",
       "      <td>1400.0</td>\n",
       "      <td>0</td>\n",
       "      <td>Paid</td>\n",
       "      <td>394.99</td>\n",
       "      <td>Everyone</td>\n",
       "      <td>Finance</td>\n",
       "      <td>July 11, 2018</td>\n",
       "      <td>1.0</td>\n",
       "      <td>4.0.3 and up</td>\n",
       "    </tr>\n",
       "    <tr>\n",
       "      <th>9934</th>\n",
       "      <td>I'm Rich/Eu sou Rico/أنا غني/我很有錢</td>\n",
       "      <td>LIFESTYLE</td>\n",
       "      <td>NaN</td>\n",
       "      <td>0</td>\n",
       "      <td>40000.0</td>\n",
       "      <td>0</td>\n",
       "      <td>Paid</td>\n",
       "      <td>399.99</td>\n",
       "      <td>Everyone</td>\n",
       "      <td>Lifestyle</td>\n",
       "      <td>December 1, 2017</td>\n",
       "      <td>MONEY</td>\n",
       "      <td>4.1 and up</td>\n",
       "    </tr>\n",
       "  </tbody>\n",
       "</table>\n",
       "</div>"
      ],
      "text/plain": [
       "                                    App   Category  Rating  Reviews     Size  \\\n",
       "4197             most expensive app (H)     FAMILY     4.3        6   1500.0   \n",
       "4362                         💎 I'm rich  LIFESTYLE     3.8      718  26000.0   \n",
       "4367           I'm Rich - Trump Edition  LIFESTYLE     3.6      275   7300.0   \n",
       "5351                          I am rich  LIFESTYLE     3.8     3547   1800.0   \n",
       "5354                     I am Rich Plus     FAMILY     4.0      856   8700.0   \n",
       "5355                      I am rich VIP  LIFESTYLE     3.8      411   2600.0   \n",
       "5356                  I Am Rich Premium    FINANCE     4.1     1867   4700.0   \n",
       "5357                I am extremely Rich  LIFESTYLE     2.9       41   2900.0   \n",
       "5358                         I am Rich!    FINANCE     3.8       93  22000.0   \n",
       "5359                 I am rich(premium)    FINANCE     3.5      472    965.0   \n",
       "5362                      I Am Rich Pro     FAMILY     4.4      201   2700.0   \n",
       "5364     I am rich (Most expensive app)    FINANCE     4.1      129   2700.0   \n",
       "5366                          I Am Rich     FAMILY     3.6      217   4900.0   \n",
       "5369                          I am Rich    FINANCE     4.3      180   3800.0   \n",
       "5373                 I AM RICH PRO PLUS    FINANCE     4.0       36  41000.0   \n",
       "9917                        Eu Sou Rico    FINANCE     NaN        0   1400.0   \n",
       "9934  I'm Rich/Eu sou Rico/أنا غني/我很有錢  LIFESTYLE     NaN        0  40000.0   \n",
       "\n",
       "      Installs  Type   Price Content Rating         Genres       Last Updated  \\\n",
       "4197       100  Paid  399.99       Everyone  Entertainment      July 16, 2018   \n",
       "4362     10000  Paid  399.99       Everyone      Lifestyle     March 11, 2018   \n",
       "4367     10000  Paid  400.00       Everyone      Lifestyle        May 3, 2018   \n",
       "5351    100000  Paid  399.99       Everyone      Lifestyle   January 12, 2018   \n",
       "5354     10000  Paid  399.99       Everyone  Entertainment       May 19, 2018   \n",
       "5355     10000  Paid  299.99       Everyone      Lifestyle      July 21, 2018   \n",
       "5356     50000  Paid  399.99       Everyone        Finance  November 12, 2017   \n",
       "5357      1000  Paid  379.99       Everyone      Lifestyle       July 1, 2018   \n",
       "5358      1000  Paid  399.99       Everyone        Finance  December 11, 2017   \n",
       "5359      5000  Paid  399.99       Everyone        Finance        May 1, 2017   \n",
       "5362      5000  Paid  399.99       Everyone  Entertainment       May 30, 2017   \n",
       "5364      1000  Paid  399.99           Teen        Finance   December 6, 2017   \n",
       "5366     10000  Paid  389.99       Everyone  Entertainment      June 22, 2018   \n",
       "5369      5000  Paid  399.99       Everyone        Finance     March 22, 2018   \n",
       "5373      1000  Paid  399.99       Everyone        Finance      June 25, 2018   \n",
       "9917         0  Paid  394.99       Everyone        Finance      July 11, 2018   \n",
       "9934         0  Paid  399.99       Everyone      Lifestyle   December 1, 2017   \n",
       "\n",
       "     Current Ver   Android Ver  \n",
       "4197         1.0    7.0 and up  \n",
       "4362       1.0.0    4.4 and up  \n",
       "4367       1.0.1    4.1 and up  \n",
       "5351         2.0  4.0.3 and up  \n",
       "5354         3.0    4.4 and up  \n",
       "5355       1.1.1    4.3 and up  \n",
       "5356         1.6    4.0 and up  \n",
       "5357         1.0    4.0 and up  \n",
       "5358         1.0    4.1 and up  \n",
       "5359         3.4    4.4 and up  \n",
       "5362        1.54    1.6 and up  \n",
       "5364           2  4.0.3 and up  \n",
       "5366         1.5    4.2 and up  \n",
       "5369         1.0    4.2 and up  \n",
       "5373       1.0.2    4.1 and up  \n",
       "9917         1.0  4.0.3 and up  \n",
       "9934       MONEY    4.1 and up  "
      ]
     },
     "execution_count": 80,
     "metadata": {},
     "output_type": "execute_result"
    }
   ],
   "source": [
    "print('Yes we can expect apps on the play store to cost $200')\n",
    "Playstore_data.loc[Playstore_data['Price'] > 200]"
   ]
  },
  {
   "cell_type": "markdown",
   "id": "ac0adbe0",
   "metadata": {},
   "source": [
    "#### iv. Limit data to records with price < $30"
   ]
  },
  {
   "cell_type": "code",
   "execution_count": 81,
   "id": "6ef6e88e",
   "metadata": {},
   "outputs": [],
   "source": [
    "limit_30 = Playstore_data[Playstore_data['Price'] > 30].index\n",
    "Playstore_data.drop(labels=limit_30, inplace=True)"
   ]
  },
  {
   "cell_type": "code",
   "execution_count": 82,
   "id": "984a710e",
   "metadata": {},
   "outputs": [
    {
     "data": {
      "text/plain": [
       "0"
      ]
     },
     "execution_count": 82,
     "metadata": {},
     "output_type": "execute_result"
    }
   ],
   "source": [
    "count_limit30 = Playstore_data.loc[Playstore_data['Price'] > 30].index\n",
    "count_limit30.value_counts().sum()"
   ]
  },
  {
   "cell_type": "markdown",
   "id": "b0d28b8a",
   "metadata": {},
   "source": [
    "#### iii. After dropping the useless records, make the suitable plot again to identify outliers"
   ]
  },
  {
   "cell_type": "code",
   "execution_count": 83,
   "id": "a3a566bd",
   "metadata": {},
   "outputs": [
    {
     "data": {
      "image/png": "[encoded data removed]",
      "text/plain": [
       "<Figure size 432x288 with 1 Axes>"
      ]
     },
     "metadata": {},
     "output_type": "display_data"
    }
   ],
   "source": [
    "red_diamond = dict(markerfacecolor='r', marker='D')\n",
    "\n",
    "plt.title(\"price distribution\")\n",
    "plt.boxplot(Playstore_data['Price'],flierprops=red_diamond)\n",
    "plt.show() "
   ]
  },
  {
   "cell_type": "markdown",
   "id": "89344818",
   "metadata": {},
   "source": [
    "### b. Reviews column"
   ]
  },
  {
   "cell_type": "markdown",
   "id": "3a2c47e8",
   "metadata": {},
   "source": [
    "#### i. Make suitable plot"
   ]
  },
  {
   "cell_type": "code",
   "execution_count": 84,
   "id": "214cf9a5",
   "metadata": {},
   "outputs": [
    {
     "name": "stderr",
     "output_type": "stream",
     "text": [
      "C:\\ProgramData\\Anaconda3\\lib\\site-packages\\seaborn\\distributions.py:2557: FutureWarning: `distplot` is a deprecated function and will be removed in a future version. Please adapt your code to use either `displot` (a figure-level function with similar flexibility) or `histplot` (an axes-level function for histograms).\n",
      "  warnings.warn(msg, FutureWarning)\n"
     ]
    },
    {
     "data": {
      "image/png": "[encoded data removed]",
      "text/plain": [
       "<Figure size 720x288 with 1 Axes>"
      ]
     },
     "metadata": {},
     "output_type": "display_data"
    }
   ],
   "source": [
    "plt.figure(figsize=(10,4))\n",
    "sns.distplot(Playstore_data['Reviews'])\n",
    "plt.show()"
   ]
  },
  {
   "cell_type": "markdown",
   "id": "fe393ac3",
   "metadata": {},
   "source": [
    "#### ii. Limit data to apps with < 1 Million reviews"
   ]
  },
  {
   "cell_type": "code",
   "execution_count": 85,
   "id": "e976b89a",
   "metadata": {},
   "outputs": [
    {
     "name": "stdout",
     "output_type": "stream",
     "text": [
      "704 Record dropped\n"
     ]
    }
   ],
   "source": [
    "Limit_1M = Playstore_data[Playstore_data['Reviews'] > 1000000 ].index\n",
    "Playstore_data.drop(labels = Limit_1M, inplace=True)\n",
    "print(Limit_1M.value_counts().sum(),'Record dropped')"
   ]
  },
  {
   "cell_type": "markdown",
   "id": "cdd43af7",
   "metadata": {},
   "source": [
    "### c. Installs"
   ]
  },
  {
   "cell_type": "markdown",
   "id": "6af35756",
   "metadata": {},
   "source": [
    "#### i. What is the 95th percentile of the installs?"
   ]
  },
  {
   "cell_type": "code",
   "execution_count": 86,
   "id": "06923e90",
   "metadata": {},
   "outputs": [
    {
     "data": {
      "text/plain": [
       "10000000.0"
      ]
     },
     "execution_count": 86,
     "metadata": {},
     "output_type": "execute_result"
    }
   ],
   "source": [
    "percentile = Playstore_data.Installs.quantile(0.95)\n",
    "percentile"
   ]
  },
  {
   "cell_type": "markdown",
   "id": "fb6b53e4",
   "metadata": {},
   "source": [
    "#### ii. Drop records having a value more than the 95th percentile"
   ]
  },
  {
   "cell_type": "code",
   "execution_count": 87,
   "id": "b3061058",
   "metadata": {},
   "outputs": [
    {
     "name": "stdout",
     "output_type": "stream",
     "text": [
      "199 Record dropped\n"
     ]
    }
   ],
   "source": [
    "drop_percentile = Playstore_data['Installs'].loc[Playstore_data['Installs'] > percentile].index\n",
    "Playstore_data.drop(labels = drop_percentile, inplace = True)\n",
    "print(drop_percentile.value_counts().sum(),'Record dropped')"
   ]
  },
  {
   "cell_type": "markdown",
   "id": "b5cc416e",
   "metadata": {},
   "source": [
    "# Data analysis to answer business questions"
   ]
  },
  {
   "cell_type": "markdown",
   "id": "e63b0ba6",
   "metadata": {},
   "source": [
    "## 5. What is the distribution of ratings like? (use Seaborn) More skewed towards higher/lower values?"
   ]
  },
  {
   "cell_type": "markdown",
   "id": "ffe86ff6",
   "metadata": {},
   "source": [
    "### a. How do you explain this?"
   ]
  },
  {
   "cell_type": "code",
   "execution_count": 88,
   "id": "25238528",
   "metadata": {
    "scrolled": true
   },
   "outputs": [
    {
     "name": "stderr",
     "output_type": "stream",
     "text": [
      "C:\\ProgramData\\Anaconda3\\lib\\site-packages\\seaborn\\distributions.py:2557: FutureWarning: `distplot` is a deprecated function and will be removed in a future version. Please adapt your code to use either `displot` (a figure-level function with similar flexibility) or `histplot` (an axes-level function for histograms).\n",
      "  warnings.warn(msg, FutureWarning)\n"
     ]
    },
    {
     "data": {
      "image/png": "[encoded data removed]",
      "text/plain": [
       "<Figure size 432x288 with 1 Axes>"
      ]
     },
     "metadata": {},
     "output_type": "display_data"
    }
   ],
   "source": [
    "sns.distplot(Playstore_data['Rating'])\n",
    "plt.show()"
   ]
  },
  {
   "cell_type": "code",
   "execution_count": 89,
   "id": "bb94c470",
   "metadata": {},
   "outputs": [
    {
     "name": "stdout",
     "output_type": "stream",
     "text": [
      "The skewness of this distribution is -1.743427033064799\n"
     ]
    }
   ],
   "source": [
    "print('The skewness of this distribution is',Playstore_data['Rating'].skew())"
   ]
  },
  {
   "cell_type": "code",
   "execution_count": 90,
   "id": "ad56998a",
   "metadata": {},
   "outputs": [
    {
     "name": "stdout",
     "output_type": "stream",
     "text": [
      "The Median of this distribution 4.3 which is greater than mean 4.170800237107298 of this distribution\n"
     ]
    }
   ],
   "source": [
    "print('The Median of this distribution {} which is greater than mean {} of this distribution'.format(Playstore_data.Rating.median(),\n",
    "                                                                                               Playstore_data.Rating.mean()))"
   ]
  },
  {
   "cell_type": "markdown",
   "id": "3de61edc",
   "metadata": {},
   "source": [
    "### b. What is the implication of this on your analysis?"
   ]
  },
  {
   "cell_type": "code",
   "execution_count": 91,
   "id": "765d5961",
   "metadata": {},
   "outputs": [
    {
     "data": {
      "text/plain": [
       "0    4.3\n",
       "dtype: float64"
      ]
     },
     "execution_count": 91,
     "metadata": {},
     "output_type": "execute_result"
    }
   ],
   "source": [
    "Playstore_data['Rating'].mode()"
   ]
  },
  {
   "cell_type": "markdown",
   "id": "9b7090d5",
   "metadata": {},
   "source": [
    "##### Since mode>= median > mean, the distribution of Rating is Negatively Skewed.\n",
    "##### Therefore distribution of Rating is more Skewed towards lower values"
   ]
  },
  {
   "cell_type": "markdown",
   "id": "0acdc9f2",
   "metadata": {},
   "source": [
    "# 6. What are the top Content Rating values?"
   ]
  },
  {
   "cell_type": "code",
   "execution_count": 92,
   "id": "da51b385",
   "metadata": {},
   "outputs": [
    {
     "data": {
      "text/plain": [
       "Everyone           8062\n",
       "Teen               1024\n",
       "Mature 17+          455\n",
       "Everyone 10+        349\n",
       "Adults only 18+       3\n",
       "Unrated               2\n",
       "Name: Content Rating, dtype: int64"
      ]
     },
     "execution_count": 92,
     "metadata": {},
     "output_type": "execute_result"
    }
   ],
   "source": [
    "Playstore_data['Content Rating'].value_counts()"
   ]
  },
  {
   "cell_type": "markdown",
   "id": "d30d35ca",
   "metadata": {},
   "source": [
    "### a. Are there any values with very few records?"
   ]
  },
  {
   "cell_type": "markdown",
   "id": "c4eb4748",
   "metadata": {},
   "source": [
    "##### Adults only 18+ and Unrated are values with very few records so we drop them."
   ]
  },
  {
   "cell_type": "markdown",
   "id": "3e509969",
   "metadata": {},
   "source": [
    "### b. If yes, drop those as they won’t help in the analysis"
   ]
  },
  {
   "cell_type": "code",
   "execution_count": 93,
   "id": "77dade2e",
   "metadata": {},
   "outputs": [],
   "source": [
    "df = []\n",
    "for k in Playstore_data['Content Rating']:\n",
    "    df.append(k.replace('Adults only 18+','NaN').replace('Unrated','NaN'))\n",
    "\n",
    "Playstore_data['Content Rating']=df"
   ]
  },
  {
   "cell_type": "code",
   "execution_count": 94,
   "id": "2e4699f5",
   "metadata": {},
   "outputs": [
    {
     "name": "stdout",
     "output_type": "stream",
     "text": [
      "droped cols Int64Index([298, 3043, 6424, 7312, 8266], dtype='int64')\n"
     ]
    }
   ],
   "source": [
    "drop_NaN = Playstore_data[Playstore_data[\"Content Rating\"] == 'NaN'].index\n",
    "Playstore_data.drop(labels=drop_NaN, inplace=True)\n",
    "print('droped cols',drop_NaN)"
   ]
  },
  {
   "cell_type": "code",
   "execution_count": 95,
   "id": "7bdae056",
   "metadata": {},
   "outputs": [
    {
     "data": {
      "text/plain": [
       "Everyone        8062\n",
       "Teen            1024\n",
       "Mature 17+       455\n",
       "Everyone 10+     349\n",
       "Name: Content Rating, dtype: int64"
      ]
     },
     "execution_count": 95,
     "metadata": {},
     "output_type": "execute_result"
    }
   ],
   "source": [
    "Playstore_data['Content Rating'].value_counts()"
   ]
  },
  {
   "cell_type": "markdown",
   "id": "b5984f37",
   "metadata": {},
   "source": [
    "## 7. Effect of size on rating"
   ]
  },
  {
   "cell_type": "markdown",
   "id": "41949950",
   "metadata": {},
   "source": [
    "### a. Make a joinplot to understand the effect of size on rating"
   ]
  },
  {
   "cell_type": "code",
   "execution_count": 96,
   "id": "cc3cc807",
   "metadata": {},
   "outputs": [
    {
     "data": {
      "image/png": "[encoded data removed]",
      "text/plain": [
       "<Figure size 432x432 with 3 Axes>"
      ]
     },
     "metadata": {},
     "output_type": "display_data"
    }
   ],
   "source": [
    "sns.jointplot(y ='Size', x ='Rating', data = Playstore_data, kind ='hex')\n",
    "plt.show()"
   ]
  },
  {
   "cell_type": "markdown",
   "id": "40cef7ae",
   "metadata": {},
   "source": [
    "### b. Do you see any patterns?"
   ]
  },
  {
   "cell_type": "markdown",
   "id": "149870f6",
   "metadata": {},
   "source": [
    "##### Yes, patterns can be observed between Size and Rating ie. their is correlation between Size and Rating."
   ]
  },
  {
   "cell_type": "markdown",
   "id": "2aa2b123",
   "metadata": {},
   "source": [
    "### c. How do you explain the pattern?"
   ]
  },
  {
   "cell_type": "markdown",
   "id": "2f56b156",
   "metadata": {},
   "source": [
    "##### Generally on increasing Rating, Size of App also increases. But this is not always true ie. for higher Rating, their is constant Size. \n",
    "##### Thus we can conclude that their is positive correlation between Size and Rating."
   ]
  },
  {
   "cell_type": "markdown",
   "id": "f51bba6c",
   "metadata": {},
   "source": [
    "## 8. Effect of price on rating"
   ]
  },
  {
   "cell_type": "markdown",
   "id": "ef0a9da2",
   "metadata": {},
   "source": [
    "### a. Make a jointplot (with regression line)"
   ]
  },
  {
   "cell_type": "code",
   "execution_count": 97,
   "id": "66a098a5",
   "metadata": {},
   "outputs": [
    {
     "data": {
      "image/png": "[encoded data removed]",
      "text/plain": [
       "<Figure size 432x432 with 3 Axes>"
      ]
     },
     "metadata": {},
     "output_type": "display_data"
    }
   ],
   "source": [
    "sns.jointplot(x='Price', y='Rating', data=Playstore_data, kind='reg')\n",
    "plt.show()"
   ]
  },
  {
   "cell_type": "markdown",
   "id": "0d42acb3",
   "metadata": {},
   "source": [
    "### b. What pattern do you see?"
   ]
  },
  {
   "cell_type": "markdown",
   "id": "0970e401",
   "metadata": {},
   "source": [
    "##### Generally on increasing the Price, Rating remains almost constant greater than 4."
   ]
  },
  {
   "cell_type": "markdown",
   "id": "13aa1315",
   "metadata": {},
   "source": [
    "### c. How do you explain the pattern?"
   ]
  },
  {
   "cell_type": "markdown",
   "id": "385db030",
   "metadata": {},
   "source": [
    "##### Since on increasing the Price, Rating remains almost constant greater than 4. \n",
    "##### Thus it can be concluded that their is very weak Positive correlation between Rating and Price."
   ]
  },
  {
   "cell_type": "code",
   "execution_count": 99,
   "id": "820ce97a",
   "metadata": {},
   "outputs": [
    {
     "data": {
      "text/html": [
       "<div>\n",
       "<style scoped>\n",
       "    .dataframe tbody tr th:only-of-type {\n",
       "        vertical-align: middle;\n",
       "    }\n",
       "\n",
       "    .dataframe tbody tr th {\n",
       "        vertical-align: top;\n",
       "    }\n",
       "\n",
       "    .dataframe thead th {\n",
       "        text-align: right;\n",
       "    }\n",
       "</style>\n",
       "<table border=\"1\" class=\"dataframe\">\n",
       "  <thead>\n",
       "    <tr style=\"text-align: right;\">\n",
       "      <th></th>\n",
       "      <th>Rating</th>\n",
       "      <th>Reviews</th>\n",
       "      <th>Size</th>\n",
       "      <th>Installs</th>\n",
       "      <th>Price</th>\n",
       "    </tr>\n",
       "  </thead>\n",
       "  <tbody>\n",
       "    <tr>\n",
       "      <th>Rating</th>\n",
       "      <td>1.000000</td>\n",
       "      <td>0.158547</td>\n",
       "      <td>0.058076</td>\n",
       "      <td>0.118414</td>\n",
       "      <td>0.031479</td>\n",
       "    </tr>\n",
       "    <tr>\n",
       "      <th>Reviews</th>\n",
       "      <td>0.158547</td>\n",
       "      <td>1.000000</td>\n",
       "      <td>0.213912</td>\n",
       "      <td>0.744276</td>\n",
       "      <td>-0.067072</td>\n",
       "    </tr>\n",
       "    <tr>\n",
       "      <th>Size</th>\n",
       "      <td>0.058076</td>\n",
       "      <td>0.213912</td>\n",
       "      <td>1.000000</td>\n",
       "      <td>0.206755</td>\n",
       "      <td>0.004359</td>\n",
       "    </tr>\n",
       "    <tr>\n",
       "      <th>Installs</th>\n",
       "      <td>0.118414</td>\n",
       "      <td>0.744276</td>\n",
       "      <td>0.206755</td>\n",
       "      <td>1.000000</td>\n",
       "      <td>-0.099462</td>\n",
       "    </tr>\n",
       "    <tr>\n",
       "      <th>Price</th>\n",
       "      <td>0.031479</td>\n",
       "      <td>-0.067072</td>\n",
       "      <td>0.004359</td>\n",
       "      <td>-0.099462</td>\n",
       "      <td>1.000000</td>\n",
       "    </tr>\n",
       "  </tbody>\n",
       "</table>\n",
       "</div>"
      ],
      "text/plain": [
       "            Rating   Reviews      Size  Installs     Price\n",
       "Rating    1.000000  0.158547  0.058076  0.118414  0.031479\n",
       "Reviews   0.158547  1.000000  0.213912  0.744276 -0.067072\n",
       "Size      0.058076  0.213912  1.000000  0.206755  0.004359\n",
       "Installs  0.118414  0.744276  0.206755  1.000000 -0.099462\n",
       "Price     0.031479 -0.067072  0.004359 -0.099462  1.000000"
      ]
     },
     "execution_count": 99,
     "metadata": {},
     "output_type": "execute_result"
    }
   ],
   "source": [
    "Playstore_data.corr()"
   ]
  },
  {
   "cell_type": "markdown",
   "id": "bbc986db",
   "metadata": {},
   "source": [
    "### d. Replot the data, this time with only records with price > 0"
   ]
  },
  {
   "cell_type": "code",
   "execution_count": 100,
   "id": "9b60a31a",
   "metadata": {},
   "outputs": [
    {
     "data": {
      "image/png": "[encoded data removed]",
      "text/plain": [
       "<Figure size 432x432 with 3 Axes>"
      ]
     },
     "metadata": {},
     "output_type": "display_data"
    }
   ],
   "source": [
    "Playstore=Playstore_data.loc[Playstore_data.Price>0]\n",
    "sns.jointplot(x='Price', y='Rating', data=Playstore, kind='reg')\n",
    "plt.show()"
   ]
  },
  {
   "cell_type": "markdown",
   "id": "c6b1bfb0",
   "metadata": {},
   "source": [
    "### e. Does the pattern change?"
   ]
  },
  {
   "cell_type": "markdown",
   "id": "e58fa4f2",
   "metadata": {},
   "source": [
    "##### Yes, On limiting the record with Price > 0, the overall pattern changed a slight ie their is very weakly Negative Correlation between Price and Rating."
   ]
  },
  {
   "cell_type": "code",
   "execution_count": 101,
   "id": "067bc18c",
   "metadata": {},
   "outputs": [
    {
     "data": {
      "text/html": [
       "<div>\n",
       "<style scoped>\n",
       "    .dataframe tbody tr th:only-of-type {\n",
       "        vertical-align: middle;\n",
       "    }\n",
       "\n",
       "    .dataframe tbody tr th {\n",
       "        vertical-align: top;\n",
       "    }\n",
       "\n",
       "    .dataframe thead th {\n",
       "        text-align: right;\n",
       "    }\n",
       "</style>\n",
       "<table border=\"1\" class=\"dataframe\">\n",
       "  <thead>\n",
       "    <tr style=\"text-align: right;\">\n",
       "      <th></th>\n",
       "      <th>Rating</th>\n",
       "      <th>Reviews</th>\n",
       "      <th>Size</th>\n",
       "      <th>Installs</th>\n",
       "      <th>Price</th>\n",
       "    </tr>\n",
       "  </thead>\n",
       "  <tbody>\n",
       "    <tr>\n",
       "      <th>Rating</th>\n",
       "      <td>1.000000</td>\n",
       "      <td>0.095986</td>\n",
       "      <td>0.117943</td>\n",
       "      <td>0.063960</td>\n",
       "      <td>-0.025975</td>\n",
       "    </tr>\n",
       "    <tr>\n",
       "      <th>Reviews</th>\n",
       "      <td>0.095986</td>\n",
       "      <td>1.000000</td>\n",
       "      <td>0.162123</td>\n",
       "      <td>0.789193</td>\n",
       "      <td>-0.040737</td>\n",
       "    </tr>\n",
       "    <tr>\n",
       "      <th>Size</th>\n",
       "      <td>0.117943</td>\n",
       "      <td>0.162123</td>\n",
       "      <td>1.000000</td>\n",
       "      <td>0.118316</td>\n",
       "      <td>0.050467</td>\n",
       "    </tr>\n",
       "    <tr>\n",
       "      <th>Installs</th>\n",
       "      <td>0.063960</td>\n",
       "      <td>0.789193</td>\n",
       "      <td>0.118316</td>\n",
       "      <td>1.000000</td>\n",
       "      <td>-0.048500</td>\n",
       "    </tr>\n",
       "    <tr>\n",
       "      <th>Price</th>\n",
       "      <td>-0.025975</td>\n",
       "      <td>-0.040737</td>\n",
       "      <td>0.050467</td>\n",
       "      <td>-0.048500</td>\n",
       "      <td>1.000000</td>\n",
       "    </tr>\n",
       "  </tbody>\n",
       "</table>\n",
       "</div>"
      ],
      "text/plain": [
       "            Rating   Reviews      Size  Installs     Price\n",
       "Rating    1.000000  0.095986  0.117943  0.063960 -0.025975\n",
       "Reviews   0.095986  1.000000  0.162123  0.789193 -0.040737\n",
       "Size      0.117943  0.162123  1.000000  0.118316  0.050467\n",
       "Installs  0.063960  0.789193  0.118316  1.000000 -0.048500\n",
       "Price    -0.025975 -0.040737  0.050467 -0.048500  1.000000"
      ]
     },
     "execution_count": 101,
     "metadata": {},
     "output_type": "execute_result"
    }
   ],
   "source": [
    "Playstore.corr()"
   ]
  },
  {
   "cell_type": "markdown",
   "id": "b8de20ac",
   "metadata": {},
   "source": [
    "### f. What is your overall inference on the effect of price on the rating"
   ]
  },
  {
   "cell_type": "markdown",
   "id": "6e279e4f",
   "metadata": {},
   "source": [
    "##### Generally increasing the Prices, doesn't have signifcant effect on Higher Rating. \n",
    "##### For Higher Price,Rating is High and almost constant ie greater than 4"
   ]
  },
  {
   "cell_type": "markdown",
   "id": "da82c73b",
   "metadata": {},
   "source": [
    "## 9. Look at all the numeric interactions together –"
   ]
  },
  {
   "cell_type": "markdown",
   "id": "3a037eac",
   "metadata": {},
   "source": [
    "### a. Make a pairplort with the colulmns - 'Reviews', 'Size', 'Rating', 'Price'"
   ]
  },
  {
   "cell_type": "code",
   "execution_count": 103,
   "id": "b50d3415",
   "metadata": {},
   "outputs": [
    {
     "data": {
      "image/png": "[encoded data removed]",
      "text/plain": [
       "<Figure size 720x720 with 20 Axes>"
      ]
     },
     "metadata": {},
     "output_type": "display_data"
    }
   ],
   "source": [
    "sns.pairplot(Playstore_data, vars=['Reviews', 'Size', 'Rating', 'Price'], kind='reg')\n",
    "plt.show()"
   ]
  },
  {
   "cell_type": "markdown",
   "id": "407f56e8",
   "metadata": {},
   "source": [
    "## 10. Rating vs. content rating"
   ]
  },
  {
   "cell_type": "markdown",
   "id": "c7328429",
   "metadata": {},
   "source": [
    "### a. Make a bar plot displaying the rating for each content rating"
   ]
  },
  {
   "cell_type": "code",
   "execution_count": 104,
   "id": "d06985de",
   "metadata": {},
   "outputs": [
    {
     "data": {
      "image/png": "[encoded data removed]",
      "text/plain": [
       "<Figure size 432x288 with 1 Axes>"
      ]
     },
     "metadata": {},
     "output_type": "display_data"
    }
   ],
   "source": [
    "Rating_content = Playstore_data.groupby(['Content Rating'])['Rating'].count()\n",
    "\n",
    "\n",
    "x = Rating_content.index.tolist()\n",
    "y = Rating_content.values.tolist()\n",
    "\n",
    "plt.xlabel('content rating')\n",
    "plt.ylabel('rating')\n",
    "\n",
    "plt.title('rating for each content rating')\n",
    "\n",
    "plt.xticks(labels=x, ticks=np.arange(len(x)))\n",
    "\n",
    "plt.bar(x, y, color=['b', 'g', 'r','c'])\n",
    "plt.show()"
   ]
  },
  {
   "cell_type": "markdown",
   "id": "bd1a6f28",
   "metadata": {},
   "source": [
    "### b. Which metric would you use? Mean? Median? Some other quantile?"
   ]
  },
  {
   "cell_type": "markdown",
   "id": "a08de205",
   "metadata": {},
   "source": [
    "##### We must use Median in this case as we are having Outliers in Rating. Because in case of Outliers , median is the best measure of central tendency."
   ]
  },
  {
   "cell_type": "markdown",
   "id": "0e0dabbf",
   "metadata": {},
   "source": [
    "### c. Choose the right metric and plot"
   ]
  },
  {
   "cell_type": "code",
   "execution_count": 106,
   "id": "14c58ba7",
   "metadata": {},
   "outputs": [
    {
     "data": {
      "image/png": "[encoded data removed]",
      "text/plain": [
       "<Figure size 432x288 with 1 Axes>"
      ]
     },
     "metadata": {},
     "output_type": "display_data"
    }
   ],
   "source": [
    "Playstore_data.groupby(['Content Rating'])['Rating'].median().plot.barh(color=\"Red\")\n",
    "plt.show()"
   ]
  },
  {
   "cell_type": "code",
   "execution_count": 107,
   "id": "aa2c743c",
   "metadata": {},
   "outputs": [],
   "source": [
    "Playstore_data = Playstore_data.dropna(axis = 0)"
   ]
  },
  {
   "cell_type": "markdown",
   "id": "addfb477",
   "metadata": {},
   "source": [
    "## 11. Content rating vs. size vs. rating – 3 variables at a time"
   ]
  },
  {
   "cell_type": "markdown",
   "id": "8aa69fa1",
   "metadata": {},
   "source": [
    "### a. Create 5 buckets (20% records in each) based on Size"
   ]
  },
  {
   "cell_type": "code",
   "execution_count": 108,
   "id": "a5bcf099",
   "metadata": {},
   "outputs": [
    {
     "name": "stderr",
     "output_type": "stream",
     "text": [
      "<ipython-input-108-874971962a92>:2: SettingWithCopyWarning: \n",
      "A value is trying to be set on a copy of a slice from a DataFrame.\n",
      "Try using .loc[row_indexer,col_indexer] = value instead\n",
      "\n",
      "See the caveats in the documentation: https://pandas.pydata.org/pandas-docs/stable/user_guide/indexing.html#returning-a-view-versus-a-copy\n",
      "  Playstore_data['Bucket Size'] = pd.cut(Playstore_data['Size'], bins, labels=['0-20000','20000-40000','40000-60000','60000-80000','80000-100000'])\n"
     ]
    },
    {
     "data": {
      "text/html": [
       "<div>\n",
       "<style scoped>\n",
       "    .dataframe tbody tr th:only-of-type {\n",
       "        vertical-align: middle;\n",
       "    }\n",
       "\n",
       "    .dataframe tbody tr th {\n",
       "        vertical-align: top;\n",
       "    }\n",
       "\n",
       "    .dataframe thead th {\n",
       "        text-align: right;\n",
       "    }\n",
       "</style>\n",
       "<table border=\"1\" class=\"dataframe\">\n",
       "  <thead>\n",
       "    <tr style=\"text-align: right;\">\n",
       "      <th>Content Rating</th>\n",
       "      <th>Everyone</th>\n",
       "      <th>Everyone 10+</th>\n",
       "      <th>Mature 17+</th>\n",
       "      <th>Teen</th>\n",
       "    </tr>\n",
       "    <tr>\n",
       "      <th>Bucket Size</th>\n",
       "      <th></th>\n",
       "      <th></th>\n",
       "      <th></th>\n",
       "      <th></th>\n",
       "    </tr>\n",
       "  </thead>\n",
       "  <tbody>\n",
       "    <tr>\n",
       "      <th>0-20000</th>\n",
       "      <td>4.145730</td>\n",
       "      <td>4.247561</td>\n",
       "      <td>4.010582</td>\n",
       "      <td>4.182240</td>\n",
       "    </tr>\n",
       "    <tr>\n",
       "      <th>20000-40000</th>\n",
       "      <td>4.200195</td>\n",
       "      <td>4.169811</td>\n",
       "      <td>4.156291</td>\n",
       "      <td>4.170432</td>\n",
       "    </tr>\n",
       "    <tr>\n",
       "      <th>40000-60000</th>\n",
       "      <td>4.167083</td>\n",
       "      <td>4.263636</td>\n",
       "      <td>4.190476</td>\n",
       "      <td>4.237383</td>\n",
       "    </tr>\n",
       "    <tr>\n",
       "      <th>60000-80000</th>\n",
       "      <td>4.245408</td>\n",
       "      <td>4.280769</td>\n",
       "      <td>4.200000</td>\n",
       "      <td>4.274194</td>\n",
       "    </tr>\n",
       "    <tr>\n",
       "      <th>80000-100000</th>\n",
       "      <td>4.260127</td>\n",
       "      <td>4.304762</td>\n",
       "      <td>4.252632</td>\n",
       "      <td>4.270313</td>\n",
       "    </tr>\n",
       "  </tbody>\n",
       "</table>\n",
       "</div>"
      ],
      "text/plain": [
       "Content Rating  Everyone  Everyone 10+  Mature 17+      Teen\n",
       "Bucket Size                                                 \n",
       "0-20000         4.145730      4.247561    4.010582  4.182240\n",
       "20000-40000     4.200195      4.169811    4.156291  4.170432\n",
       "40000-60000     4.167083      4.263636    4.190476  4.237383\n",
       "60000-80000     4.245408      4.280769    4.200000  4.274194\n",
       "80000-100000    4.260127      4.304762    4.252632  4.270313"
      ]
     },
     "execution_count": 108,
     "metadata": {},
     "output_type": "execute_result"
    }
   ],
   "source": [
    "bins=[0, 20000, 40000, 60000, 80000, 100000]\n",
    "Playstore_data['Bucket Size'] = pd.cut(Playstore_data['Size'], bins, labels=['0-20000','20000-40000','40000-60000','60000-80000','80000-100000'])\n",
    "pd.pivot_table(Playstore_data, values='Rating', index='Bucket Size', columns='Content Rating')"
   ]
  },
  {
   "cell_type": "markdown",
   "id": "48daf595",
   "metadata": {},
   "source": [
    "### b. By Content Rating vs. Size buckets, get the rating (20th percentile) for each combination"
   ]
  },
  {
   "cell_type": "code",
   "execution_count": 109,
   "id": "06addd89",
   "metadata": {},
   "outputs": [
    {
     "data": {
      "text/html": [
       "<div>\n",
       "<style scoped>\n",
       "    .dataframe tbody tr th:only-of-type {\n",
       "        vertical-align: middle;\n",
       "    }\n",
       "\n",
       "    .dataframe tbody tr th {\n",
       "        vertical-align: top;\n",
       "    }\n",
       "\n",
       "    .dataframe thead th {\n",
       "        text-align: right;\n",
       "    }\n",
       "</style>\n",
       "<table border=\"1\" class=\"dataframe\">\n",
       "  <thead>\n",
       "    <tr style=\"text-align: right;\">\n",
       "      <th>Content Rating</th>\n",
       "      <th>Everyone</th>\n",
       "      <th>Everyone 10+</th>\n",
       "      <th>Mature 17+</th>\n",
       "      <th>Teen</th>\n",
       "    </tr>\n",
       "    <tr>\n",
       "      <th>Bucket Size</th>\n",
       "      <th></th>\n",
       "      <th></th>\n",
       "      <th></th>\n",
       "      <th></th>\n",
       "    </tr>\n",
       "  </thead>\n",
       "  <tbody>\n",
       "    <tr>\n",
       "      <th>0-20000</th>\n",
       "      <td>3.80</td>\n",
       "      <td>4.02</td>\n",
       "      <td>3.5</td>\n",
       "      <td>3.9</td>\n",
       "    </tr>\n",
       "    <tr>\n",
       "      <th>20000-40000</th>\n",
       "      <td>4.00</td>\n",
       "      <td>4.00</td>\n",
       "      <td>4.0</td>\n",
       "      <td>3.9</td>\n",
       "    </tr>\n",
       "    <tr>\n",
       "      <th>40000-60000</th>\n",
       "      <td>3.90</td>\n",
       "      <td>4.06</td>\n",
       "      <td>4.1</td>\n",
       "      <td>4.0</td>\n",
       "    </tr>\n",
       "    <tr>\n",
       "      <th>60000-80000</th>\n",
       "      <td>4.00</td>\n",
       "      <td>4.00</td>\n",
       "      <td>4.0</td>\n",
       "      <td>4.0</td>\n",
       "    </tr>\n",
       "    <tr>\n",
       "      <th>80000-100000</th>\n",
       "      <td>4.04</td>\n",
       "      <td>4.10</td>\n",
       "      <td>4.0</td>\n",
       "      <td>4.0</td>\n",
       "    </tr>\n",
       "  </tbody>\n",
       "</table>\n",
       "</div>"
      ],
      "text/plain": [
       "Content Rating  Everyone  Everyone 10+  Mature 17+  Teen\n",
       "Bucket Size                                             \n",
       "0-20000             3.80          4.02         3.5   3.9\n",
       "20000-40000         4.00          4.00         4.0   3.9\n",
       "40000-60000         3.90          4.06         4.1   4.0\n",
       "60000-80000         4.00          4.00         4.0   4.0\n",
       "80000-100000        4.04          4.10         4.0   4.0"
      ]
     },
     "execution_count": 109,
     "metadata": {},
     "output_type": "execute_result"
    }
   ],
   "source": [
    "Size_Bucket = pd.pivot_table(Playstore_data, values='Rating', index='Bucket Size', columns='Content Rating', \n",
    "                             aggfunc = lambda x:np.quantile(x,0.2))\n",
    "Size_Bucket"
   ]
  },
  {
   "cell_type": "markdown",
   "id": "ba1f9079",
   "metadata": {},
   "source": [
    "### c. Make a heatmap of this"
   ]
  },
  {
   "cell_type": "markdown",
   "id": "459e1783",
   "metadata": {},
   "source": [
    "#### i. Annotated"
   ]
  },
  {
   "cell_type": "code",
   "execution_count": 110,
   "id": "c4e88747",
   "metadata": {},
   "outputs": [
    {
     "data": {
      "image/png": "[encoded data removed]",
      "text/plain": [
       "<Figure size 360x360 with 2 Axes>"
      ]
     },
     "metadata": {},
     "output_type": "display_data"
    }
   ],
   "source": [
    "f,ax = plt.subplots(figsize=(5, 5))\n",
    "sns.heatmap(Size_Bucket, annot=True, linewidths=.5, fmt='.1f',ax=ax)\n",
    "plt.show()"
   ]
  },
  {
   "cell_type": "markdown",
   "id": "3e390402",
   "metadata": {},
   "source": [
    "#### ii. Greens color map"
   ]
  },
  {
   "cell_type": "code",
   "execution_count": 111,
   "id": "5130da07",
   "metadata": {},
   "outputs": [
    {
     "data": {
      "image/png": "[encoded data removed]",
      "text/plain": [
       "<Figure size 360x360 with 2 Axes>"
      ]
     },
     "metadata": {},
     "output_type": "display_data"
    }
   ],
   "source": [
    "f,ax = plt.subplots(figsize=(5, 5))\n",
    "sns.heatmap(Size_Bucket, annot=True, linewidths=.5, cmap='Greens',fmt='.1f',ax=ax)\n",
    "plt.show()"
   ]
  },
  {
   "cell_type": "markdown",
   "id": "2321f88f",
   "metadata": {},
   "source": [
    "### d. What’s your inference? Are lighter apps preferred in all categories? Heavier? Some?"
   ]
  },
  {
   "cell_type": "markdown",
   "id": "bb06e86a",
   "metadata": {},
   "source": [
    "##### Based on analysis, its not true that lighter apps are preferred in all categories. \n",
    "##### Because apps with size 40k-60k and 80k-100k have got the highest rating in all cateegories. \n",
    "##### So, in general we can conclude that heavier apps are preferred in all categories."
   ]
  }
 ],
 "metadata": {
  "kernelspec": {
   "display_name": "Python 3",
   "language": "python",
   "name": "python3"
  },
  "language_info": {
   "codemirror_mode": {
    "name": "ipython",
    "version": 3
   },
   "file_extension": ".py",
   "mimetype": "text/x-python",
   "name": "python",
   "nbconvert_exporter": "python",
   "pygments_lexer": "ipython3",
   "version": "3.8.8"
  }
 },
 "nbformat": 4,
 "nbformat_minor": 5
}
